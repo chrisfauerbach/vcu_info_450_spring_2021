{
 "cells": [
  {
   "cell_type": "markdown",
   "metadata": {
    "slideshow": {
     "slide_type": "slide"
    }
   },
   "source": [
    "\n",
    "## Python for Data Analysis book\n",
    "\n",
    "Chapter 4\n",
    "\n",
    "Introduction to Numpy\n",
    "\n",
    "--  Then we'll talk about your exam!\n",
    " "
   ]
  },
  {
   "cell_type": "markdown",
   "metadata": {
    "slideshow": {
     "slide_type": "slide"
    }
   },
   "source": [
    " \n",
    "## Numpy:  Numerical Python\n",
    "\n",
    "Numpy is a core library built and used as the backbone of most high level\n",
    "scientific and numerical analysis packages.\n",
    "\n",
    "Numpy provides data structures and functionality \n",
    " "
   ]
  },
  {
   "cell_type": "markdown",
   "metadata": {
    "slideshow": {
     "slide_type": "slide"
    }
   },
   "source": [
    "![Jupyter Notebooks](jupyter_start.png)"
   ]
  },
  {
   "cell_type": "markdown",
   "metadata": {
    "slideshow": {
     "slide_type": "slide"
    }
   },
   "source": [
    "![Environments](env.png)"
   ]
  },
  {
   "cell_type": "markdown",
   "metadata": {
    "slideshow": {
     "slide_type": "slide"
    }
   },
   "source": [
    " \n",
    "ndarray: an efficient multi-dimensional \n",
    "\n",
    "array providing fast array-oriented arithmetic operations and flexible broadcasting capabilities.\n",
    " \n",
    "Mathematical functions for fast operations on entire arrays of data without having to write loops\n",
    "\n",
    " "
   ]
  },
  {
   "cell_type": "markdown",
   "metadata": {
    "slideshow": {
     "slide_type": "slide"
    }
   },
   "source": [
    " \n",
    "Tools for reading/writing array data to disk and working with memory-mapped files\n",
    " \n",
    "Linear Algebra, random number generation, Fourier transform capabilities\n",
    " \n",
    "A C API for connecting NumPy with libraries written in C, C++ and FORTRAN\n",
    " \n",
    "\n",
    "Numpy stores data efficiently by keepign it in contiguous blocks of memory, independent of \n",
    "other Python objects\n"
   ]
  },
  {
   "cell_type": "code",
   "execution_count": 4,
   "metadata": {
    "slideshow": {
     "slide_type": "slide"
    }
   },
   "outputs": [],
   "source": [
    "# Import the numpy library, aliasing it to np..  Not sure why we always do that\n",
    "import numpy as np"
   ]
  },
  {
   "cell_type": "code",
   "execution_count": 5,
   "metadata": {
    "slideshow": {
     "slide_type": "slide"
    }
   },
   "outputs": [],
   "source": [
    "data = np.random.randn(2,3)"
   ]
  },
  {
   "cell_type": "code",
   "execution_count": 6,
   "metadata": {
    "slideshow": {
     "slide_type": "slide"
    }
   },
   "outputs": [
    {
     "data": {
      "text/plain": [
       "array([[-0.46216476, -0.12961292, -0.38355299],\n",
       "       [-0.04468236, -0.18326396, -0.66955045]])"
      ]
     },
     "execution_count": 6,
     "metadata": {},
     "output_type": "execute_result"
    }
   ],
   "source": [
    "data"
   ]
  },
  {
   "cell_type": "code",
   "execution_count": 7,
   "metadata": {
    "slideshow": {
     "slide_type": "slide"
    }
   },
   "outputs": [
    {
     "data": {
      "text/plain": [
       "array([[-4.62164761, -1.29612919, -3.83552988],\n",
       "       [-0.44682358, -1.83263959, -6.69550451]])"
      ]
     },
     "execution_count": 7,
     "metadata": {},
     "output_type": "execute_result"
    }
   ],
   "source": [
    "# multiply each item in the array by 10\n",
    "data * 10"
   ]
  },
  {
   "cell_type": "code",
   "execution_count": 11,
   "metadata": {},
   "outputs": [],
   "source": [
    "second_array = data * 10"
   ]
  },
  {
   "cell_type": "code",
   "execution_count": 12,
   "metadata": {},
   "outputs": [
    {
     "data": {
      "text/plain": [
       "array([[-4.62164761, -1.29612919, -3.83552988],\n",
       "       [-0.44682358, -1.83263959, -6.69550451]])"
      ]
     },
     "execution_count": 12,
     "metadata": {},
     "output_type": "execute_result"
    }
   ],
   "source": [
    "second_array"
   ]
  },
  {
   "cell_type": "code",
   "execution_count": 13,
   "metadata": {},
   "outputs": [
    {
     "data": {
      "text/plain": [
       "array([[-0.46216476, -0.12961292, -0.38355299],\n",
       "       [-0.04468236, -0.18326396, -0.66955045]])"
      ]
     },
     "execution_count": 13,
     "metadata": {},
     "output_type": "execute_result"
    }
   ],
   "source": [
    "data"
   ]
  },
  {
   "cell_type": "code",
   "execution_count": 14,
   "metadata": {},
   "outputs": [
    {
     "data": {
      "text/plain": [
       "array([[-5.08381237, -1.42574211, -4.21908287],\n",
       "       [-0.49150594, -2.01590355, -7.36505496]])"
      ]
     },
     "execution_count": 14,
     "metadata": {},
     "output_type": "execute_result"
    }
   ],
   "source": [
    "second_array + data"
   ]
  },
  {
   "cell_type": "code",
   "execution_count": 8,
   "metadata": {
    "slideshow": {
     "slide_type": "slide"
    }
   },
   "outputs": [
    {
     "data": {
      "text/plain": [
       "array([[-0.92432952, -0.25922584, -0.76710598],\n",
       "       [-0.08936472, -0.36652792, -1.3391009 ]])"
      ]
     },
     "execution_count": 8,
     "metadata": {},
     "output_type": "execute_result"
    }
   ],
   "source": [
    "# Add data to data (adding two multi dimension arrays)\n",
    "data + data"
   ]
  },
  {
   "cell_type": "code",
   "execution_count": 10,
   "metadata": {},
   "outputs": [
    {
     "data": {
      "text/plain": [
       "array([[-0.92432952, -0.25922584, -0.76710598],\n",
       "       [-0.08936472, -0.36652792, -1.3391009 ]])"
      ]
     },
     "execution_count": 10,
     "metadata": {},
     "output_type": "execute_result"
    }
   ],
   "source": [
    "new_data = data + data\n",
    "new_data"
   ]
  },
  {
   "cell_type": "code",
   "execution_count": 9,
   "metadata": {
    "slideshow": {
     "slide_type": "slide"
    }
   },
   "outputs": [
    {
     "data": {
      "text/plain": [
       "(2, 3)"
      ]
     },
     "execution_count": 9,
     "metadata": {},
     "output_type": "execute_result"
    }
   ],
   "source": [
    "# size of dimensions\n",
    "data.shape"
   ]
  },
  {
   "cell_type": "code",
   "execution_count": 15,
   "metadata": {
    "slideshow": {
     "slide_type": "slide"
    }
   },
   "outputs": [
    {
     "data": {
      "text/plain": [
       "dtype('float64')"
      ]
     },
     "execution_count": 15,
     "metadata": {},
     "output_type": "execute_result"
    }
   ],
   "source": [
    "# Data type stored in array\n",
    "# Rows, Columns\n",
    "\n",
    "data.dtype"
   ]
  },
  {
   "cell_type": "markdown",
   "metadata": {
    "slideshow": {
     "slide_type": "slide"
    }
   },
   "source": [
    "\n",
    "From the book, they refer to a 'ndarray' object multiple ways:\n",
    "\n",
    "1. Array\n",
    "2. NumPy array\n",
    "3. ndarray\n"
   ]
  },
  {
   "cell_type": "code",
   "execution_count": 16,
   "metadata": {
    "slideshow": {
     "slide_type": "slide"
    }
   },
   "outputs": [],
   "source": [
    "#Create arrays\n",
    "list_data1 = [6, 7.5, 8, 0, 1]\n",
    "ndarray_data1 = np.array(list_data1)"
   ]
  },
  {
   "cell_type": "code",
   "execution_count": 17,
   "metadata": {
    "slideshow": {
     "slide_type": "slide"
    }
   },
   "outputs": [
    {
     "data": {
      "text/plain": [
       "array([6. , 7.5, 8. , 0. , 1. ])"
      ]
     },
     "execution_count": 17,
     "metadata": {},
     "output_type": "execute_result"
    }
   ],
   "source": [
    "ndarray_data1"
   ]
  },
  {
   "cell_type": "code",
   "execution_count": 18,
   "metadata": {
    "slideshow": {
     "slide_type": "slide"
    }
   },
   "outputs": [
    {
     "data": {
      "text/plain": [
       "(5,)"
      ]
     },
     "execution_count": 18,
     "metadata": {},
     "output_type": "execute_result"
    }
   ],
   "source": [
    "ndarray_data1.shape"
   ]
  },
  {
   "cell_type": "code",
   "execution_count": 19,
   "metadata": {
    "slideshow": {
     "slide_type": "slide"
    }
   },
   "outputs": [
    {
     "data": {
      "text/plain": [
       "dtype('float64')"
      ]
     },
     "execution_count": 19,
     "metadata": {},
     "output_type": "execute_result"
    }
   ],
   "source": [
    "ndarray_data1.dtype"
   ]
  },
  {
   "cell_type": "code",
   "execution_count": 20,
   "metadata": {
    "slideshow": {
     "slide_type": "slide"
    }
   },
   "outputs": [],
   "source": [
    "# Create a multi dimensional array\n",
    "list_data2 = [[1, 2, 3, 4], [5, 6, 7, 8]]\n",
    "ndarray_data2 = np.array(list_data2)"
   ]
  },
  {
   "cell_type": "code",
   "execution_count": 21,
   "metadata": {
    "slideshow": {
     "slide_type": "slide"
    }
   },
   "outputs": [
    {
     "data": {
      "text/plain": [
       "array([[1, 2, 3, 4],\n",
       "       [5, 6, 7, 8]])"
      ]
     },
     "execution_count": 21,
     "metadata": {},
     "output_type": "execute_result"
    }
   ],
   "source": [
    "ndarray_data2"
   ]
  },
  {
   "cell_type": "code",
   "execution_count": 22,
   "metadata": {
    "slideshow": {
     "slide_type": "slide"
    }
   },
   "outputs": [
    {
     "data": {
      "text/plain": [
       "dtype('int64')"
      ]
     },
     "execution_count": 22,
     "metadata": {},
     "output_type": "execute_result"
    }
   ],
   "source": [
    "ndarray_data2.dtype"
   ]
  },
  {
   "cell_type": "code",
   "execution_count": 23,
   "metadata": {
    "slideshow": {
     "slide_type": "slide"
    }
   },
   "outputs": [
    {
     "data": {
      "text/plain": [
       "2"
      ]
     },
     "execution_count": 23,
     "metadata": {},
     "output_type": "execute_result"
    }
   ],
   "source": [
    "ndarray_data2.ndim"
   ]
  },
  {
   "cell_type": "code",
   "execution_count": 24,
   "metadata": {
    "slideshow": {
     "slide_type": "slide"
    }
   },
   "outputs": [
    {
     "data": {
      "text/plain": [
       "(2, 4)"
      ]
     },
     "execution_count": 24,
     "metadata": {},
     "output_type": "execute_result"
    }
   ],
   "source": [
    "ndarray_data2.shape"
   ]
  },
  {
   "cell_type": "markdown",
   "metadata": {
    "slideshow": {
     "slide_type": "slide"
    }
   },
   "source": [
    "\n",
    "dtype is an 'inferred' meta data attribute of the array\n",
    "\n",
    "numpy tries to guess based on the data in the array\n",
    "\n"
   ]
  },
  {
   "cell_type": "markdown",
   "metadata": {
    "slideshow": {
     "slide_type": "slide"
    }
   },
   "source": [
    "\n",
    "Numpy has a suite of functions for creating new arrays\n"
   ]
  },
  {
   "cell_type": "code",
   "execution_count": 25,
   "metadata": {
    "slideshow": {
     "slide_type": "slide"
    }
   },
   "outputs": [
    {
     "data": {
      "text/plain": [
       "array([0., 0., 0., 0., 0., 0., 0., 0., 0., 0.])"
      ]
     },
     "execution_count": 25,
     "metadata": {},
     "output_type": "execute_result"
    }
   ],
   "source": [
    "# Create an array with a lot of zeros\n",
    "np.zeros(10)"
   ]
  },
  {
   "cell_type": "code",
   "execution_count": 26,
   "metadata": {
    "slideshow": {
     "slide_type": "slide"
    }
   },
   "outputs": [
    {
     "data": {
      "text/plain": [
       "array([[0., 0., 0., 0., 0., 0.],\n",
       "       [0., 0., 0., 0., 0., 0.],\n",
       "       [0., 0., 0., 0., 0., 0.]])"
      ]
     },
     "execution_count": 26,
     "metadata": {},
     "output_type": "execute_result"
    }
   ],
   "source": [
    "np.zeros((3, 6))"
   ]
  },
  {
   "cell_type": "code",
   "execution_count": 27,
   "metadata": {},
   "outputs": [
    {
     "data": {
      "text/plain": [
       "array([[1., 1., 1., 1., 1.],\n",
       "       [1., 1., 1., 1., 1.],\n",
       "       [1., 1., 1., 1., 1.]])"
      ]
     },
     "execution_count": 27,
     "metadata": {},
     "output_type": "execute_result"
    }
   ],
   "source": [
    "np.ones((3,5))"
   ]
  },
  {
   "cell_type": "code",
   "execution_count": 28,
   "metadata": {
    "slideshow": {
     "slide_type": "slide"
    }
   },
   "outputs": [
    {
     "data": {
      "text/plain": [
       "array([[[ 2.41907520e-312,  2.14321575e-312],\n",
       "        [-1.72723371e-077, -1.72723371e-077],\n",
       "        [ 2.35541533e-312,  2.05833592e-312]],\n",
       "\n",
       "       [[ 2.22809558e-312,  2.56761491e-312],\n",
       "        [ 2.48273508e-312,  2.05833592e-312],\n",
       "        [ 2.05833592e-312,  2.29175545e-312]]])"
      ]
     },
     "execution_count": 28,
     "metadata": {},
     "output_type": "execute_result"
    }
   ],
   "source": [
    "np.empty((2,3,2))"
   ]
  },
  {
   "cell_type": "markdown",
   "metadata": {
    "slideshow": {
     "slide_type": "slide"
    }
   },
   "source": [
    " \n",
    "# ******  WARNING ***** \n",
    "\n",
    "It's not safe to assume that np.empty will return an array of all zeros.\n",
    "In some cases, it may return uninitialized 'garbage' values.\n",
    "Unitialized garbage means: Whatever was already in memory.\n",
    " "
   ]
  },
  {
   "cell_type": "code",
   "execution_count": 29,
   "metadata": {
    "slideshow": {
     "slide_type": "slide"
    }
   },
   "outputs": [
    {
     "name": "stdout",
     "output_type": "stream",
     "text": [
      "0\n",
      "1\n",
      "2\n",
      "3\n",
      "4\n",
      "5\n",
      "6\n",
      "7\n",
      "8\n",
      "9\n"
     ]
    }
   ],
   "source": [
    "# arange:  numpy , array value of the built in range function\n",
    "for x in range(10):\n",
    "    print(x)"
   ]
  },
  {
   "cell_type": "code",
   "execution_count": 30,
   "metadata": {
    "slideshow": {
     "slide_type": "slide"
    }
   },
   "outputs": [
    {
     "data": {
      "text/plain": [
       "array([ 0,  1,  2,  3,  4,  5,  6,  7,  8,  9, 10, 11, 12, 13, 14])"
      ]
     },
     "execution_count": 30,
     "metadata": {},
     "output_type": "execute_result"
    }
   ],
   "source": [
    "np.arange(15)"
   ]
  },
  {
   "cell_type": "markdown",
   "metadata": {
    "slideshow": {
     "slide_type": "slide"
    }
   },
   "source": [
    "\n",
    "* array\n",
    "* asarray\n",
    "* arange\n",
    "* ones,\n",
    "* ones_like # duplicates the structure/shape of an existing array\n",
    "* zeros,\n",
    "* zeros_like\n",
    "* empty, \n",
    "* empty_like\n",
    "* full,\n",
    "* full_like\n",
    "* eye, identity # Create a square N * N identity matrix (1s on the diagonal, 0s elsewhere)\n",
    "\n"
   ]
  },
  {
   "cell_type": "code",
   "execution_count": 34,
   "metadata": {
    "slideshow": {
     "slide_type": "slide"
    }
   },
   "outputs": [
    {
     "data": {
      "text/plain": [
       "array([[7.6, 7.6, 7.6],\n",
       "       [7.6, 7.6, 7.6]])"
      ]
     },
     "execution_count": 34,
     "metadata": {},
     "output_type": "execute_result"
    }
   ],
   "source": [
    "np.full((2,3), 7.6)"
   ]
  },
  {
   "cell_type": "code",
   "execution_count": 35,
   "metadata": {},
   "outputs": [
    {
     "data": {
      "text/plain": [
       "array([[1., 0., 0., 0., 0., 0., 0., 0., 0., 0., 0., 0.],\n",
       "       [0., 1., 0., 0., 0., 0., 0., 0., 0., 0., 0., 0.],\n",
       "       [0., 0., 1., 0., 0., 0., 0., 0., 0., 0., 0., 0.],\n",
       "       [0., 0., 0., 1., 0., 0., 0., 0., 0., 0., 0., 0.],\n",
       "       [0., 0., 0., 0., 1., 0., 0., 0., 0., 0., 0., 0.],\n",
       "       [0., 0., 0., 0., 0., 1., 0., 0., 0., 0., 0., 0.],\n",
       "       [0., 0., 0., 0., 0., 0., 1., 0., 0., 0., 0., 0.],\n",
       "       [0., 0., 0., 0., 0., 0., 0., 1., 0., 0., 0., 0.],\n",
       "       [0., 0., 0., 0., 0., 0., 0., 0., 1., 0., 0., 0.],\n",
       "       [0., 0., 0., 0., 0., 0., 0., 0., 0., 1., 0., 0.],\n",
       "       [0., 0., 0., 0., 0., 0., 0., 0., 0., 0., 1., 0.],\n",
       "       [0., 0., 0., 0., 0., 0., 0., 0., 0., 0., 0., 1.]])"
      ]
     },
     "execution_count": 35,
     "metadata": {},
     "output_type": "execute_result"
    }
   ],
   "source": [
    "np.eye(12)"
   ]
  },
  {
   "cell_type": "code",
   "execution_count": 36,
   "metadata": {
    "slideshow": {
     "slide_type": "slide"
    }
   },
   "outputs": [
    {
     "data": {
      "text/plain": [
       "array([[1., 0., 0., 0., 0., 0., 0., 0., 0., 0., 0., 0.],\n",
       "       [0., 1., 0., 0., 0., 0., 0., 0., 0., 0., 0., 0.],\n",
       "       [0., 0., 1., 0., 0., 0., 0., 0., 0., 0., 0., 0.],\n",
       "       [0., 0., 0., 1., 0., 0., 0., 0., 0., 0., 0., 0.],\n",
       "       [0., 0., 0., 0., 1., 0., 0., 0., 0., 0., 0., 0.],\n",
       "       [0., 0., 0., 0., 0., 1., 0., 0., 0., 0., 0., 0.],\n",
       "       [0., 0., 0., 0., 0., 0., 1., 0., 0., 0., 0., 0.],\n",
       "       [0., 0., 0., 0., 0., 0., 0., 1., 0., 0., 0., 0.],\n",
       "       [0., 0., 0., 0., 0., 0., 0., 0., 1., 0., 0., 0.],\n",
       "       [0., 0., 0., 0., 0., 0., 0., 0., 0., 1., 0., 0.],\n",
       "       [0., 0., 0., 0., 0., 0., 0., 0., 0., 0., 1., 0.],\n",
       "       [0., 0., 0., 0., 0., 0., 0., 0., 0., 0., 0., 1.]])"
      ]
     },
     "execution_count": 36,
     "metadata": {},
     "output_type": "execute_result"
    }
   ],
   "source": [
    "np.identity(12)"
   ]
  },
  {
   "cell_type": "code",
   "execution_count": 37,
   "metadata": {
    "slideshow": {
     "slide_type": "slide"
    }
   },
   "outputs": [
    {
     "data": {
      "text/plain": [
       "array([1., 2., 3.])"
      ]
     },
     "execution_count": 37,
     "metadata": {},
     "output_type": "execute_result"
    }
   ],
   "source": [
    "\"\"\"\n",
    "You can explicitly tell an ndarray what data type to have inside of it.\n",
    "done with a parameter for the different functions\n",
    "\"\"\"\n",
    "np.array([1,2,3], dtype=np.float64)"
   ]
  },
  {
   "cell_type": "code",
   "execution_count": 38,
   "metadata": {
    "slideshow": {
     "slide_type": "slide"
    }
   },
   "outputs": [
    {
     "data": {
      "text/plain": [
       "dtype('float64')"
      ]
     },
     "execution_count": 38,
     "metadata": {},
     "output_type": "execute_result"
    }
   ],
   "source": [
    "np.array([1,2,3], dtype=np.float64).dtype"
   ]
  },
  {
   "cell_type": "code",
   "execution_count": 39,
   "metadata": {
    "slideshow": {
     "slide_type": "slide"
    }
   },
   "outputs": [
    {
     "data": {
      "text/plain": [
       "array([1, 2, 3], dtype=int32)"
      ]
     },
     "execution_count": 39,
     "metadata": {},
     "output_type": "execute_result"
    }
   ],
   "source": [
    "np.array([1,2,3], dtype=np.int32)"
   ]
  },
  {
   "cell_type": "code",
   "execution_count": 40,
   "metadata": {
    "slideshow": {
     "slide_type": "slide"
    }
   },
   "outputs": [
    {
     "data": {
      "text/plain": [
       "dtype('int32')"
      ]
     },
     "execution_count": 40,
     "metadata": {},
     "output_type": "execute_result"
    }
   ],
   "source": [
    "np.array([1,2,3], dtype=np.int32).dtype"
   ]
  },
  {
   "cell_type": "markdown",
   "metadata": {
    "slideshow": {
     "slide_type": "slide"
    }
   },
   "source": [
    " \n",
    "## Numpy supports a wide range of data types, but you don't have to memorize each and everyone\n",
    "\n",
    "* int (8/16/32/64)\n",
    "* float (16, 32, 64, 128)\n",
    "* complex (64, 128, 256) - complex type represented by two numbers\n",
    "* bool\n",
    "* object\n",
    "* string_ (fixed size ascii, S abbreviation , S10)\n",
    "* unicode_ (fixed size Unicode, U abbreviation, U12)\n",
    " "
   ]
  },
  {
   "cell_type": "code",
   "execution_count": 41,
   "metadata": {
    "slideshow": {
     "slide_type": "slide"
    }
   },
   "outputs": [
    {
     "data": {
      "text/plain": [
       "array([1, 2, 3, 4])"
      ]
     },
     "execution_count": 41,
     "metadata": {},
     "output_type": "execute_result"
    }
   ],
   "source": [
    "\"\"\"\n",
    "We can explicitly cast/convert some dtypes to others\n",
    "\"\"\"\n",
    "int_arr = np.array([1,2,3,4])\n",
    "int_arr"
   ]
  },
  {
   "cell_type": "code",
   "execution_count": 42,
   "metadata": {
    "scrolled": true,
    "slideshow": {
     "slide_type": "slide"
    }
   },
   "outputs": [
    {
     "data": {
      "text/plain": [
       "dtype('int64')"
      ]
     },
     "execution_count": 42,
     "metadata": {},
     "output_type": "execute_result"
    }
   ],
   "source": [
    "int_arr.dtype"
   ]
  },
  {
   "cell_type": "code",
   "execution_count": 43,
   "metadata": {
    "slideshow": {
     "slide_type": "slide"
    }
   },
   "outputs": [
    {
     "data": {
      "text/plain": [
       "array([1., 2., 3., 4.])"
      ]
     },
     "execution_count": 43,
     "metadata": {},
     "output_type": "execute_result"
    }
   ],
   "source": [
    "float_arr = int_arr.astype(np.float64)\n",
    "float_arr\n"
   ]
  },
  {
   "cell_type": "code",
   "execution_count": 44,
   "metadata": {},
   "outputs": [
    {
     "data": {
      "text/plain": [
       "array([1, 2, 3, 4])"
      ]
     },
     "execution_count": 44,
     "metadata": {},
     "output_type": "execute_result"
    }
   ],
   "source": [
    "int_arr"
   ]
  },
  {
   "cell_type": "code",
   "execution_count": 45,
   "metadata": {
    "slideshow": {
     "slide_type": "slide"
    }
   },
   "outputs": [
    {
     "data": {
      "text/plain": [
       "dtype('float64')"
      ]
     },
     "execution_count": 45,
     "metadata": {},
     "output_type": "execute_result"
    }
   ],
   "source": [
    "float_arr.dtype"
   ]
  },
  {
   "cell_type": "code",
   "execution_count": 46,
   "metadata": {},
   "outputs": [
    {
     "data": {
      "text/plain": [
       "array([ 3.14 ,  1.23 , 10.432])"
      ]
     },
     "execution_count": 46,
     "metadata": {},
     "output_type": "execute_result"
    }
   ],
   "source": [
    "new_float_arr = np.array([3.14 ,1.23, 10.432])\n",
    "new_float_arr"
   ]
  },
  {
   "cell_type": "code",
   "execution_count": 48,
   "metadata": {},
   "outputs": [
    {
     "data": {
      "text/plain": [
       "array([ 3,  1, 10], dtype=int32)"
      ]
     },
     "execution_count": 48,
     "metadata": {},
     "output_type": "execute_result"
    }
   ],
   "source": [
    "new_int_arry = new_float_arr.astype(np.int32)\n",
    "new_int_arry"
   ]
  },
  {
   "cell_type": "markdown",
   "metadata": {
    "slideshow": {
     "slide_type": "slide"
    }
   },
   "source": [
    " \n",
    "I'm skipping a bunch of information on 'slicing' the array and other utilities like 'resizing'\n",
    "\n",
    "Please read chapter 4.1 in your book.  That material CAN be used in a quiz.\n",
    " "
   ]
  },
  {
   "cell_type": "markdown",
   "metadata": {
    "slideshow": {
     "slide_type": "slide"
    }
   },
   "source": [
    "\n",
    "## Fun functions for arrays\n",
    "\n",
    "# UNARY Functions\n",
    "\n",
    "Functions that act on one ndarray\n",
    "\n",
    "* exp - calculate the exponential of each number\n",
    "* sqrt -  square root \n",
    "* exp2 - 2**x\n",
    "* abs, fabs\n",
    "* square\n",
    "* log, log10, log2, log1p\n",
    "* sign\n",
    "* ceil\n",
    "* floor\n",
    "* rint\n",
    "* modf\n",
    "* isnan\n",
    "* isfinite, isinf\n",
    "* cos, cosh, sin, sinh, tan, tanh\n",
    "* arccos, archosh, arcsin, arcsignh, arctan, arctanh\n",
    "* logical_not\n",
    " "
   ]
  },
  {
   "cell_type": "code",
   "execution_count": 49,
   "metadata": {
    "slideshow": {
     "slide_type": "slide"
    }
   },
   "outputs": [
    {
     "data": {
      "text/plain": [
       "array([ 0,  1,  2,  3,  4,  5,  6,  7,  8,  9, 10, 11], dtype=int32)"
      ]
     },
     "execution_count": 49,
     "metadata": {},
     "output_type": "execute_result"
    }
   ],
   "source": [
    "int_arr2 = np.arange(12, dtype=np.int32)\n",
    "int_arr2"
   ]
  },
  {
   "cell_type": "code",
   "execution_count": 50,
   "metadata": {
    "slideshow": {
     "slide_type": "slide"
    }
   },
   "outputs": [
    {
     "data": {
      "text/plain": [
       "array([1.000e+00, 2.000e+00, 4.000e+00, 8.000e+00, 1.600e+01, 3.200e+01,\n",
       "       6.400e+01, 1.280e+02, 2.560e+02, 5.120e+02, 1.024e+03, 2.048e+03])"
      ]
     },
     "execution_count": 50,
     "metadata": {},
     "output_type": "execute_result"
    }
   ],
   "source": [
    "np.exp2(int_arr2)"
   ]
  },
  {
   "cell_type": "code",
   "execution_count": 51,
   "metadata": {
    "slideshow": {
     "slide_type": "slide"
    }
   },
   "outputs": [
    {
     "data": {
      "text/plain": [
       "dtype('float64')"
      ]
     },
     "execution_count": 51,
     "metadata": {},
     "output_type": "execute_result"
    }
   ],
   "source": [
    "np.exp2(int_arr2).dtype"
   ]
  },
  {
   "cell_type": "code",
   "execution_count": 52,
   "metadata": {
    "slideshow": {
     "slide_type": "slide"
    }
   },
   "outputs": [
    {
     "data": {
      "text/plain": [
       "array([   1,    2,    4,    8,   16,   32,   64,  128,  256,  512, 1024,\n",
       "       2048], dtype=int32)"
      ]
     },
     "execution_count": 52,
     "metadata": {},
     "output_type": "execute_result"
    }
   ],
   "source": [
    "np.exp2(int_arr2).astype(np.int32)"
   ]
  },
  {
   "cell_type": "markdown",
   "metadata": {
    "slideshow": {
     "slide_type": "slide"
    }
   },
   "source": [
    "\n",
    "# BINARY Functions\n",
    "\n",
    "Functions that act on TWO ndarrays\n",
    "\n",
    "* add\n",
    "* subtract\n",
    "* multiply\n",
    "* divide, floor_divide\n",
    "* power\n",
    "* maximum, fmax - (fmax ignore NaN)\n",
    "* minimum, fmin - (fmin ignores NaN)\n",
    "* mod - modulus\n",
    "* copysign - copies sign of second argument to first\n",
    "* greater, greater_equal, less, less_equal, equal, not_equal\n",
    "* logical_and, logical_or, logical_xor\n",
    "\n",
    " "
   ]
  },
  {
   "cell_type": "code",
   "execution_count": 53,
   "metadata": {
    "slideshow": {
     "slide_type": "slide"
    }
   },
   "outputs": [
    {
     "data": {
      "text/plain": [
       "array([2, 4, 6, 8])"
      ]
     },
     "execution_count": 53,
     "metadata": {},
     "output_type": "execute_result"
    }
   ],
   "source": [
    "first_arr = np.array([1,2,3,4])\n",
    "second_arr = np.array([1,2,3,4])\n",
    "np.add(first_arr, second_arr)"
   ]
  },
  {
   "cell_type": "code",
   "execution_count": 57,
   "metadata": {
    "slideshow": {
     "slide_type": "slide"
    }
   },
   "outputs": [
    {
     "data": {
      "text/plain": [
       "array([ -9, -18, -27, -36])"
      ]
     },
     "execution_count": 57,
     "metadata": {},
     "output_type": "execute_result"
    }
   ],
   "source": [
    "first_arr = np.array([1,2,3,4])\n",
    "second_arr = np.array([10,20,30,40])\n",
    "np.subtract(first_arr, second_arr)"
   ]
  },
  {
   "cell_type": "code",
   "execution_count": 58,
   "metadata": {},
   "outputs": [
    {
     "ename": "ValueError",
     "evalue": "operands could not be broadcast together with shapes (4,) (6,) ",
     "output_type": "error",
     "traceback": [
      "\u001b[0;31m---------------------------------------------------------------------------\u001b[0m",
      "\u001b[0;31mValueError\u001b[0m                                Traceback (most recent call last)",
      "\u001b[0;32m<ipython-input-58-9e8aec6e35a8>\u001b[0m in \u001b[0;36m<module>\u001b[0;34m\u001b[0m\n\u001b[1;32m      1\u001b[0m \u001b[0mfirst_arr2\u001b[0m \u001b[0;34m=\u001b[0m \u001b[0mnp\u001b[0m\u001b[0;34m.\u001b[0m\u001b[0marray\u001b[0m\u001b[0;34m(\u001b[0m\u001b[0;34m[\u001b[0m\u001b[0;36m1\u001b[0m\u001b[0;34m,\u001b[0m\u001b[0;36m2\u001b[0m\u001b[0;34m,\u001b[0m\u001b[0;36m3\u001b[0m\u001b[0;34m,\u001b[0m\u001b[0;36m4\u001b[0m\u001b[0;34m]\u001b[0m\u001b[0;34m)\u001b[0m\u001b[0;34m\u001b[0m\u001b[0;34m\u001b[0m\u001b[0m\n\u001b[1;32m      2\u001b[0m \u001b[0msecond_arr2\u001b[0m \u001b[0;34m=\u001b[0m \u001b[0mnp\u001b[0m\u001b[0;34m.\u001b[0m\u001b[0marray\u001b[0m\u001b[0;34m(\u001b[0m\u001b[0;34m[\u001b[0m\u001b[0;36m10\u001b[0m\u001b[0;34m,\u001b[0m\u001b[0;36m20\u001b[0m\u001b[0;34m,\u001b[0m\u001b[0;36m30\u001b[0m\u001b[0;34m,\u001b[0m\u001b[0;36m40\u001b[0m\u001b[0;34m,\u001b[0m \u001b[0;36m60\u001b[0m\u001b[0;34m,\u001b[0m \u001b[0;36m30\u001b[0m\u001b[0;34m]\u001b[0m\u001b[0;34m)\u001b[0m\u001b[0;34m\u001b[0m\u001b[0;34m\u001b[0m\u001b[0m\n\u001b[0;32m----> 3\u001b[0;31m \u001b[0mnp\u001b[0m\u001b[0;34m.\u001b[0m\u001b[0msubtract\u001b[0m\u001b[0;34m(\u001b[0m\u001b[0mfirst_arr2\u001b[0m\u001b[0;34m,\u001b[0m \u001b[0msecond_arr2\u001b[0m\u001b[0;34m)\u001b[0m\u001b[0;34m\u001b[0m\u001b[0;34m\u001b[0m\u001b[0m\n\u001b[0m",
      "\u001b[0;31mValueError\u001b[0m: operands could not be broadcast together with shapes (4,) (6,) "
     ]
    }
   ],
   "source": [
    "first_arr2 = np.array([1,2,3,4])\n",
    "second_arr2 = np.array([10,20,30,40, 60, 30])\n",
    "np.subtract(first_arr2, second_arr2)"
   ]
  },
  {
   "cell_type": "code",
   "execution_count": 59,
   "metadata": {
    "slideshow": {
     "slide_type": "slide"
    }
   },
   "outputs": [
    {
     "data": {
      "text/plain": [
       "array([ 9, 18, 27, 36])"
      ]
     },
     "execution_count": 59,
     "metadata": {},
     "output_type": "execute_result"
    }
   ],
   "source": [
    "np.subtract(second_arr, first_arr)"
   ]
  },
  {
   "cell_type": "code",
   "execution_count": 60,
   "metadata": {
    "slideshow": {
     "slide_type": "slide"
    }
   },
   "outputs": [
    {
     "data": {
      "text/plain": [
       "array([1, 2, 3, 4])"
      ]
     },
     "execution_count": 60,
     "metadata": {},
     "output_type": "execute_result"
    }
   ],
   "source": [
    "first_arr"
   ]
  },
  {
   "cell_type": "code",
   "execution_count": 61,
   "metadata": {
    "slideshow": {
     "slide_type": "slide"
    }
   },
   "outputs": [
    {
     "data": {
      "text/plain": [
       "array([10, 20, 30, 40])"
      ]
     },
     "execution_count": 61,
     "metadata": {},
     "output_type": "execute_result"
    }
   ],
   "source": [
    "second_arr"
   ]
  },
  {
   "cell_type": "code",
   "execution_count": 62,
   "metadata": {
    "slideshow": {
     "slide_type": "slide"
    }
   },
   "outputs": [],
   "source": [
    "third_arr = np.subtract(second_arr, first_arr)"
   ]
  },
  {
   "cell_type": "code",
   "execution_count": 63,
   "metadata": {
    "slideshow": {
     "slide_type": "slide"
    }
   },
   "outputs": [
    {
     "data": {
      "text/plain": [
       "array([ 9, 18, 27, 36])"
      ]
     },
     "execution_count": 63,
     "metadata": {},
     "output_type": "execute_result"
    }
   ],
   "source": [
    "third_arr"
   ]
  },
  {
   "cell_type": "markdown",
   "metadata": {
    "slideshow": {
     "slide_type": "slide"
    }
   },
   "source": [
    "\n",
    "## Fun visualization, if we get this far.\n",
    "\n",
    "\n",
    "![Install Matplotlib](matplotlib.png)\n"
   ]
  },
  {
   "cell_type": "code",
   "execution_count": 64,
   "metadata": {
    "slideshow": {
     "slide_type": "slide"
    }
   },
   "outputs": [
    {
     "data": {
      "text/plain": [
       "array([-5.0000000e+00, -4.9900000e+00, -4.9800000e+00, -4.9700000e+00,\n",
       "       -4.9600000e+00, -4.9500000e+00, -4.9400000e+00, -4.9300000e+00,\n",
       "       -4.9200000e+00, -4.9100000e+00, -4.9000000e+00, -4.8900000e+00,\n",
       "       -4.8800000e+00, -4.8700000e+00, -4.8600000e+00, -4.8500000e+00,\n",
       "       -4.8400000e+00, -4.8300000e+00, -4.8200000e+00, -4.8100000e+00,\n",
       "       -4.8000000e+00, -4.7900000e+00, -4.7800000e+00, -4.7700000e+00,\n",
       "       -4.7600000e+00, -4.7500000e+00, -4.7400000e+00, -4.7300000e+00,\n",
       "       -4.7200000e+00, -4.7100000e+00, -4.7000000e+00, -4.6900000e+00,\n",
       "       -4.6800000e+00, -4.6700000e+00, -4.6600000e+00, -4.6500000e+00,\n",
       "       -4.6400000e+00, -4.6300000e+00, -4.6200000e+00, -4.6100000e+00,\n",
       "       -4.6000000e+00, -4.5900000e+00, -4.5800000e+00, -4.5700000e+00,\n",
       "       -4.5600000e+00, -4.5500000e+00, -4.5400000e+00, -4.5300000e+00,\n",
       "       -4.5200000e+00, -4.5100000e+00, -4.5000000e+00, -4.4900000e+00,\n",
       "       -4.4800000e+00, -4.4700000e+00, -4.4600000e+00, -4.4500000e+00,\n",
       "       -4.4400000e+00, -4.4300000e+00, -4.4200000e+00, -4.4100000e+00,\n",
       "       -4.4000000e+00, -4.3900000e+00, -4.3800000e+00, -4.3700000e+00,\n",
       "       -4.3600000e+00, -4.3500000e+00, -4.3400000e+00, -4.3300000e+00,\n",
       "       -4.3200000e+00, -4.3100000e+00, -4.3000000e+00, -4.2900000e+00,\n",
       "       -4.2800000e+00, -4.2700000e+00, -4.2600000e+00, -4.2500000e+00,\n",
       "       -4.2400000e+00, -4.2300000e+00, -4.2200000e+00, -4.2100000e+00,\n",
       "       -4.2000000e+00, -4.1900000e+00, -4.1800000e+00, -4.1700000e+00,\n",
       "       -4.1600000e+00, -4.1500000e+00, -4.1400000e+00, -4.1300000e+00,\n",
       "       -4.1200000e+00, -4.1100000e+00, -4.1000000e+00, -4.0900000e+00,\n",
       "       -4.0800000e+00, -4.0700000e+00, -4.0600000e+00, -4.0500000e+00,\n",
       "       -4.0400000e+00, -4.0300000e+00, -4.0200000e+00, -4.0100000e+00,\n",
       "       -4.0000000e+00, -3.9900000e+00, -3.9800000e+00, -3.9700000e+00,\n",
       "       -3.9600000e+00, -3.9500000e+00, -3.9400000e+00, -3.9300000e+00,\n",
       "       -3.9200000e+00, -3.9100000e+00, -3.9000000e+00, -3.8900000e+00,\n",
       "       -3.8800000e+00, -3.8700000e+00, -3.8600000e+00, -3.8500000e+00,\n",
       "       -3.8400000e+00, -3.8300000e+00, -3.8200000e+00, -3.8100000e+00,\n",
       "       -3.8000000e+00, -3.7900000e+00, -3.7800000e+00, -3.7700000e+00,\n",
       "       -3.7600000e+00, -3.7500000e+00, -3.7400000e+00, -3.7300000e+00,\n",
       "       -3.7200000e+00, -3.7100000e+00, -3.7000000e+00, -3.6900000e+00,\n",
       "       -3.6800000e+00, -3.6700000e+00, -3.6600000e+00, -3.6500000e+00,\n",
       "       -3.6400000e+00, -3.6300000e+00, -3.6200000e+00, -3.6100000e+00,\n",
       "       -3.6000000e+00, -3.5900000e+00, -3.5800000e+00, -3.5700000e+00,\n",
       "       -3.5600000e+00, -3.5500000e+00, -3.5400000e+00, -3.5300000e+00,\n",
       "       -3.5200000e+00, -3.5100000e+00, -3.5000000e+00, -3.4900000e+00,\n",
       "       -3.4800000e+00, -3.4700000e+00, -3.4600000e+00, -3.4500000e+00,\n",
       "       -3.4400000e+00, -3.4300000e+00, -3.4200000e+00, -3.4100000e+00,\n",
       "       -3.4000000e+00, -3.3900000e+00, -3.3800000e+00, -3.3700000e+00,\n",
       "       -3.3600000e+00, -3.3500000e+00, -3.3400000e+00, -3.3300000e+00,\n",
       "       -3.3200000e+00, -3.3100000e+00, -3.3000000e+00, -3.2900000e+00,\n",
       "       -3.2800000e+00, -3.2700000e+00, -3.2600000e+00, -3.2500000e+00,\n",
       "       -3.2400000e+00, -3.2300000e+00, -3.2200000e+00, -3.2100000e+00,\n",
       "       -3.2000000e+00, -3.1900000e+00, -3.1800000e+00, -3.1700000e+00,\n",
       "       -3.1600000e+00, -3.1500000e+00, -3.1400000e+00, -3.1300000e+00,\n",
       "       -3.1200000e+00, -3.1100000e+00, -3.1000000e+00, -3.0900000e+00,\n",
       "       -3.0800000e+00, -3.0700000e+00, -3.0600000e+00, -3.0500000e+00,\n",
       "       -3.0400000e+00, -3.0300000e+00, -3.0200000e+00, -3.0100000e+00,\n",
       "       -3.0000000e+00, -2.9900000e+00, -2.9800000e+00, -2.9700000e+00,\n",
       "       -2.9600000e+00, -2.9500000e+00, -2.9400000e+00, -2.9300000e+00,\n",
       "       -2.9200000e+00, -2.9100000e+00, -2.9000000e+00, -2.8900000e+00,\n",
       "       -2.8800000e+00, -2.8700000e+00, -2.8600000e+00, -2.8500000e+00,\n",
       "       -2.8400000e+00, -2.8300000e+00, -2.8200000e+00, -2.8100000e+00,\n",
       "       -2.8000000e+00, -2.7900000e+00, -2.7800000e+00, -2.7700000e+00,\n",
       "       -2.7600000e+00, -2.7500000e+00, -2.7400000e+00, -2.7300000e+00,\n",
       "       -2.7200000e+00, -2.7100000e+00, -2.7000000e+00, -2.6900000e+00,\n",
       "       -2.6800000e+00, -2.6700000e+00, -2.6600000e+00, -2.6500000e+00,\n",
       "       -2.6400000e+00, -2.6300000e+00, -2.6200000e+00, -2.6100000e+00,\n",
       "       -2.6000000e+00, -2.5900000e+00, -2.5800000e+00, -2.5700000e+00,\n",
       "       -2.5600000e+00, -2.5500000e+00, -2.5400000e+00, -2.5300000e+00,\n",
       "       -2.5200000e+00, -2.5100000e+00, -2.5000000e+00, -2.4900000e+00,\n",
       "       -2.4800000e+00, -2.4700000e+00, -2.4600000e+00, -2.4500000e+00,\n",
       "       -2.4400000e+00, -2.4300000e+00, -2.4200000e+00, -2.4100000e+00,\n",
       "       -2.4000000e+00, -2.3900000e+00, -2.3800000e+00, -2.3700000e+00,\n",
       "       -2.3600000e+00, -2.3500000e+00, -2.3400000e+00, -2.3300000e+00,\n",
       "       -2.3200000e+00, -2.3100000e+00, -2.3000000e+00, -2.2900000e+00,\n",
       "       -2.2800000e+00, -2.2700000e+00, -2.2600000e+00, -2.2500000e+00,\n",
       "       -2.2400000e+00, -2.2300000e+00, -2.2200000e+00, -2.2100000e+00,\n",
       "       -2.2000000e+00, -2.1900000e+00, -2.1800000e+00, -2.1700000e+00,\n",
       "       -2.1600000e+00, -2.1500000e+00, -2.1400000e+00, -2.1300000e+00,\n",
       "       -2.1200000e+00, -2.1100000e+00, -2.1000000e+00, -2.0900000e+00,\n",
       "       -2.0800000e+00, -2.0700000e+00, -2.0600000e+00, -2.0500000e+00,\n",
       "       -2.0400000e+00, -2.0300000e+00, -2.0200000e+00, -2.0100000e+00,\n",
       "       -2.0000000e+00, -1.9900000e+00, -1.9800000e+00, -1.9700000e+00,\n",
       "       -1.9600000e+00, -1.9500000e+00, -1.9400000e+00, -1.9300000e+00,\n",
       "       -1.9200000e+00, -1.9100000e+00, -1.9000000e+00, -1.8900000e+00,\n",
       "       -1.8800000e+00, -1.8700000e+00, -1.8600000e+00, -1.8500000e+00,\n",
       "       -1.8400000e+00, -1.8300000e+00, -1.8200000e+00, -1.8100000e+00,\n",
       "       -1.8000000e+00, -1.7900000e+00, -1.7800000e+00, -1.7700000e+00,\n",
       "       -1.7600000e+00, -1.7500000e+00, -1.7400000e+00, -1.7300000e+00,\n",
       "       -1.7200000e+00, -1.7100000e+00, -1.7000000e+00, -1.6900000e+00,\n",
       "       -1.6800000e+00, -1.6700000e+00, -1.6600000e+00, -1.6500000e+00,\n",
       "       -1.6400000e+00, -1.6300000e+00, -1.6200000e+00, -1.6100000e+00,\n",
       "       -1.6000000e+00, -1.5900000e+00, -1.5800000e+00, -1.5700000e+00,\n",
       "       -1.5600000e+00, -1.5500000e+00, -1.5400000e+00, -1.5300000e+00,\n",
       "       -1.5200000e+00, -1.5100000e+00, -1.5000000e+00, -1.4900000e+00,\n",
       "       -1.4800000e+00, -1.4700000e+00, -1.4600000e+00, -1.4500000e+00,\n",
       "       -1.4400000e+00, -1.4300000e+00, -1.4200000e+00, -1.4100000e+00,\n",
       "       -1.4000000e+00, -1.3900000e+00, -1.3800000e+00, -1.3700000e+00,\n",
       "       -1.3600000e+00, -1.3500000e+00, -1.3400000e+00, -1.3300000e+00,\n",
       "       -1.3200000e+00, -1.3100000e+00, -1.3000000e+00, -1.2900000e+00,\n",
       "       -1.2800000e+00, -1.2700000e+00, -1.2600000e+00, -1.2500000e+00,\n",
       "       -1.2400000e+00, -1.2300000e+00, -1.2200000e+00, -1.2100000e+00,\n",
       "       -1.2000000e+00, -1.1900000e+00, -1.1800000e+00, -1.1700000e+00,\n",
       "       -1.1600000e+00, -1.1500000e+00, -1.1400000e+00, -1.1300000e+00,\n",
       "       -1.1200000e+00, -1.1100000e+00, -1.1000000e+00, -1.0900000e+00,\n",
       "       -1.0800000e+00, -1.0700000e+00, -1.0600000e+00, -1.0500000e+00,\n",
       "       -1.0400000e+00, -1.0300000e+00, -1.0200000e+00, -1.0100000e+00,\n",
       "       -1.0000000e+00, -9.9000000e-01, -9.8000000e-01, -9.7000000e-01,\n",
       "       -9.6000000e-01, -9.5000000e-01, -9.4000000e-01, -9.3000000e-01,\n",
       "       -9.2000000e-01, -9.1000000e-01, -9.0000000e-01, -8.9000000e-01,\n",
       "       -8.8000000e-01, -8.7000000e-01, -8.6000000e-01, -8.5000000e-01,\n",
       "       -8.4000000e-01, -8.3000000e-01, -8.2000000e-01, -8.1000000e-01,\n",
       "       -8.0000000e-01, -7.9000000e-01, -7.8000000e-01, -7.7000000e-01,\n",
       "       -7.6000000e-01, -7.5000000e-01, -7.4000000e-01, -7.3000000e-01,\n",
       "       -7.2000000e-01, -7.1000000e-01, -7.0000000e-01, -6.9000000e-01,\n",
       "       -6.8000000e-01, -6.7000000e-01, -6.6000000e-01, -6.5000000e-01,\n",
       "       -6.4000000e-01, -6.3000000e-01, -6.2000000e-01, -6.1000000e-01,\n",
       "       -6.0000000e-01, -5.9000000e-01, -5.8000000e-01, -5.7000000e-01,\n",
       "       -5.6000000e-01, -5.5000000e-01, -5.4000000e-01, -5.3000000e-01,\n",
       "       -5.2000000e-01, -5.1000000e-01, -5.0000000e-01, -4.9000000e-01,\n",
       "       -4.8000000e-01, -4.7000000e-01, -4.6000000e-01, -4.5000000e-01,\n",
       "       -4.4000000e-01, -4.3000000e-01, -4.2000000e-01, -4.1000000e-01,\n",
       "       -4.0000000e-01, -3.9000000e-01, -3.8000000e-01, -3.7000000e-01,\n",
       "       -3.6000000e-01, -3.5000000e-01, -3.4000000e-01, -3.3000000e-01,\n",
       "       -3.2000000e-01, -3.1000000e-01, -3.0000000e-01, -2.9000000e-01,\n",
       "       -2.8000000e-01, -2.7000000e-01, -2.6000000e-01, -2.5000000e-01,\n",
       "       -2.4000000e-01, -2.3000000e-01, -2.2000000e-01, -2.1000000e-01,\n",
       "       -2.0000000e-01, -1.9000000e-01, -1.8000000e-01, -1.7000000e-01,\n",
       "       -1.6000000e-01, -1.5000000e-01, -1.4000000e-01, -1.3000000e-01,\n",
       "       -1.2000000e-01, -1.1000000e-01, -1.0000000e-01, -9.0000000e-02,\n",
       "       -8.0000000e-02, -7.0000000e-02, -6.0000000e-02, -5.0000000e-02,\n",
       "       -4.0000000e-02, -3.0000000e-02, -2.0000000e-02, -1.0000000e-02,\n",
       "       -1.0658141e-13,  1.0000000e-02,  2.0000000e-02,  3.0000000e-02,\n",
       "        4.0000000e-02,  5.0000000e-02,  6.0000000e-02,  7.0000000e-02,\n",
       "        8.0000000e-02,  9.0000000e-02,  1.0000000e-01,  1.1000000e-01,\n",
       "        1.2000000e-01,  1.3000000e-01,  1.4000000e-01,  1.5000000e-01,\n",
       "        1.6000000e-01,  1.7000000e-01,  1.8000000e-01,  1.9000000e-01,\n",
       "        2.0000000e-01,  2.1000000e-01,  2.2000000e-01,  2.3000000e-01,\n",
       "        2.4000000e-01,  2.5000000e-01,  2.6000000e-01,  2.7000000e-01,\n",
       "        2.8000000e-01,  2.9000000e-01,  3.0000000e-01,  3.1000000e-01,\n",
       "        3.2000000e-01,  3.3000000e-01,  3.4000000e-01,  3.5000000e-01,\n",
       "        3.6000000e-01,  3.7000000e-01,  3.8000000e-01,  3.9000000e-01,\n",
       "        4.0000000e-01,  4.1000000e-01,  4.2000000e-01,  4.3000000e-01,\n",
       "        4.4000000e-01,  4.5000000e-01,  4.6000000e-01,  4.7000000e-01,\n",
       "        4.8000000e-01,  4.9000000e-01,  5.0000000e-01,  5.1000000e-01,\n",
       "        5.2000000e-01,  5.3000000e-01,  5.4000000e-01,  5.5000000e-01,\n",
       "        5.6000000e-01,  5.7000000e-01,  5.8000000e-01,  5.9000000e-01,\n",
       "        6.0000000e-01,  6.1000000e-01,  6.2000000e-01,  6.3000000e-01,\n",
       "        6.4000000e-01,  6.5000000e-01,  6.6000000e-01,  6.7000000e-01,\n",
       "        6.8000000e-01,  6.9000000e-01,  7.0000000e-01,  7.1000000e-01,\n",
       "        7.2000000e-01,  7.3000000e-01,  7.4000000e-01,  7.5000000e-01,\n",
       "        7.6000000e-01,  7.7000000e-01,  7.8000000e-01,  7.9000000e-01,\n",
       "        8.0000000e-01,  8.1000000e-01,  8.2000000e-01,  8.3000000e-01,\n",
       "        8.4000000e-01,  8.5000000e-01,  8.6000000e-01,  8.7000000e-01,\n",
       "        8.8000000e-01,  8.9000000e-01,  9.0000000e-01,  9.1000000e-01,\n",
       "        9.2000000e-01,  9.3000000e-01,  9.4000000e-01,  9.5000000e-01,\n",
       "        9.6000000e-01,  9.7000000e-01,  9.8000000e-01,  9.9000000e-01,\n",
       "        1.0000000e+00,  1.0100000e+00,  1.0200000e+00,  1.0300000e+00,\n",
       "        1.0400000e+00,  1.0500000e+00,  1.0600000e+00,  1.0700000e+00,\n",
       "        1.0800000e+00,  1.0900000e+00,  1.1000000e+00,  1.1100000e+00,\n",
       "        1.1200000e+00,  1.1300000e+00,  1.1400000e+00,  1.1500000e+00,\n",
       "        1.1600000e+00,  1.1700000e+00,  1.1800000e+00,  1.1900000e+00,\n",
       "        1.2000000e+00,  1.2100000e+00,  1.2200000e+00,  1.2300000e+00,\n",
       "        1.2400000e+00,  1.2500000e+00,  1.2600000e+00,  1.2700000e+00,\n",
       "        1.2800000e+00,  1.2900000e+00,  1.3000000e+00,  1.3100000e+00,\n",
       "        1.3200000e+00,  1.3300000e+00,  1.3400000e+00,  1.3500000e+00,\n",
       "        1.3600000e+00,  1.3700000e+00,  1.3800000e+00,  1.3900000e+00,\n",
       "        1.4000000e+00,  1.4100000e+00,  1.4200000e+00,  1.4300000e+00,\n",
       "        1.4400000e+00,  1.4500000e+00,  1.4600000e+00,  1.4700000e+00,\n",
       "        1.4800000e+00,  1.4900000e+00,  1.5000000e+00,  1.5100000e+00,\n",
       "        1.5200000e+00,  1.5300000e+00,  1.5400000e+00,  1.5500000e+00,\n",
       "        1.5600000e+00,  1.5700000e+00,  1.5800000e+00,  1.5900000e+00,\n",
       "        1.6000000e+00,  1.6100000e+00,  1.6200000e+00,  1.6300000e+00,\n",
       "        1.6400000e+00,  1.6500000e+00,  1.6600000e+00,  1.6700000e+00,\n",
       "        1.6800000e+00,  1.6900000e+00,  1.7000000e+00,  1.7100000e+00,\n",
       "        1.7200000e+00,  1.7300000e+00,  1.7400000e+00,  1.7500000e+00,\n",
       "        1.7600000e+00,  1.7700000e+00,  1.7800000e+00,  1.7900000e+00,\n",
       "        1.8000000e+00,  1.8100000e+00,  1.8200000e+00,  1.8300000e+00,\n",
       "        1.8400000e+00,  1.8500000e+00,  1.8600000e+00,  1.8700000e+00,\n",
       "        1.8800000e+00,  1.8900000e+00,  1.9000000e+00,  1.9100000e+00,\n",
       "        1.9200000e+00,  1.9300000e+00,  1.9400000e+00,  1.9500000e+00,\n",
       "        1.9600000e+00,  1.9700000e+00,  1.9800000e+00,  1.9900000e+00,\n",
       "        2.0000000e+00,  2.0100000e+00,  2.0200000e+00,  2.0300000e+00,\n",
       "        2.0400000e+00,  2.0500000e+00,  2.0600000e+00,  2.0700000e+00,\n",
       "        2.0800000e+00,  2.0900000e+00,  2.1000000e+00,  2.1100000e+00,\n",
       "        2.1200000e+00,  2.1300000e+00,  2.1400000e+00,  2.1500000e+00,\n",
       "        2.1600000e+00,  2.1700000e+00,  2.1800000e+00,  2.1900000e+00,\n",
       "        2.2000000e+00,  2.2100000e+00,  2.2200000e+00,  2.2300000e+00,\n",
       "        2.2400000e+00,  2.2500000e+00,  2.2600000e+00,  2.2700000e+00,\n",
       "        2.2800000e+00,  2.2900000e+00,  2.3000000e+00,  2.3100000e+00,\n",
       "        2.3200000e+00,  2.3300000e+00,  2.3400000e+00,  2.3500000e+00,\n",
       "        2.3600000e+00,  2.3700000e+00,  2.3800000e+00,  2.3900000e+00,\n",
       "        2.4000000e+00,  2.4100000e+00,  2.4200000e+00,  2.4300000e+00,\n",
       "        2.4400000e+00,  2.4500000e+00,  2.4600000e+00,  2.4700000e+00,\n",
       "        2.4800000e+00,  2.4900000e+00,  2.5000000e+00,  2.5100000e+00,\n",
       "        2.5200000e+00,  2.5300000e+00,  2.5400000e+00,  2.5500000e+00,\n",
       "        2.5600000e+00,  2.5700000e+00,  2.5800000e+00,  2.5900000e+00,\n",
       "        2.6000000e+00,  2.6100000e+00,  2.6200000e+00,  2.6300000e+00,\n",
       "        2.6400000e+00,  2.6500000e+00,  2.6600000e+00,  2.6700000e+00,\n",
       "        2.6800000e+00,  2.6900000e+00,  2.7000000e+00,  2.7100000e+00,\n",
       "        2.7200000e+00,  2.7300000e+00,  2.7400000e+00,  2.7500000e+00,\n",
       "        2.7600000e+00,  2.7700000e+00,  2.7800000e+00,  2.7900000e+00,\n",
       "        2.8000000e+00,  2.8100000e+00,  2.8200000e+00,  2.8300000e+00,\n",
       "        2.8400000e+00,  2.8500000e+00,  2.8600000e+00,  2.8700000e+00,\n",
       "        2.8800000e+00,  2.8900000e+00,  2.9000000e+00,  2.9100000e+00,\n",
       "        2.9200000e+00,  2.9300000e+00,  2.9400000e+00,  2.9500000e+00,\n",
       "        2.9600000e+00,  2.9700000e+00,  2.9800000e+00,  2.9900000e+00,\n",
       "        3.0000000e+00,  3.0100000e+00,  3.0200000e+00,  3.0300000e+00,\n",
       "        3.0400000e+00,  3.0500000e+00,  3.0600000e+00,  3.0700000e+00,\n",
       "        3.0800000e+00,  3.0900000e+00,  3.1000000e+00,  3.1100000e+00,\n",
       "        3.1200000e+00,  3.1300000e+00,  3.1400000e+00,  3.1500000e+00,\n",
       "        3.1600000e+00,  3.1700000e+00,  3.1800000e+00,  3.1900000e+00,\n",
       "        3.2000000e+00,  3.2100000e+00,  3.2200000e+00,  3.2300000e+00,\n",
       "        3.2400000e+00,  3.2500000e+00,  3.2600000e+00,  3.2700000e+00,\n",
       "        3.2800000e+00,  3.2900000e+00,  3.3000000e+00,  3.3100000e+00,\n",
       "        3.3200000e+00,  3.3300000e+00,  3.3400000e+00,  3.3500000e+00,\n",
       "        3.3600000e+00,  3.3700000e+00,  3.3800000e+00,  3.3900000e+00,\n",
       "        3.4000000e+00,  3.4100000e+00,  3.4200000e+00,  3.4300000e+00,\n",
       "        3.4400000e+00,  3.4500000e+00,  3.4600000e+00,  3.4700000e+00,\n",
       "        3.4800000e+00,  3.4900000e+00,  3.5000000e+00,  3.5100000e+00,\n",
       "        3.5200000e+00,  3.5300000e+00,  3.5400000e+00,  3.5500000e+00,\n",
       "        3.5600000e+00,  3.5700000e+00,  3.5800000e+00,  3.5900000e+00,\n",
       "        3.6000000e+00,  3.6100000e+00,  3.6200000e+00,  3.6300000e+00,\n",
       "        3.6400000e+00,  3.6500000e+00,  3.6600000e+00,  3.6700000e+00,\n",
       "        3.6800000e+00,  3.6900000e+00,  3.7000000e+00,  3.7100000e+00,\n",
       "        3.7200000e+00,  3.7300000e+00,  3.7400000e+00,  3.7500000e+00,\n",
       "        3.7600000e+00,  3.7700000e+00,  3.7800000e+00,  3.7900000e+00,\n",
       "        3.8000000e+00,  3.8100000e+00,  3.8200000e+00,  3.8300000e+00,\n",
       "        3.8400000e+00,  3.8500000e+00,  3.8600000e+00,  3.8700000e+00,\n",
       "        3.8800000e+00,  3.8900000e+00,  3.9000000e+00,  3.9100000e+00,\n",
       "        3.9200000e+00,  3.9300000e+00,  3.9400000e+00,  3.9500000e+00,\n",
       "        3.9600000e+00,  3.9700000e+00,  3.9800000e+00,  3.9900000e+00,\n",
       "        4.0000000e+00,  4.0100000e+00,  4.0200000e+00,  4.0300000e+00,\n",
       "        4.0400000e+00,  4.0500000e+00,  4.0600000e+00,  4.0700000e+00,\n",
       "        4.0800000e+00,  4.0900000e+00,  4.1000000e+00,  4.1100000e+00,\n",
       "        4.1200000e+00,  4.1300000e+00,  4.1400000e+00,  4.1500000e+00,\n",
       "        4.1600000e+00,  4.1700000e+00,  4.1800000e+00,  4.1900000e+00,\n",
       "        4.2000000e+00,  4.2100000e+00,  4.2200000e+00,  4.2300000e+00,\n",
       "        4.2400000e+00,  4.2500000e+00,  4.2600000e+00,  4.2700000e+00,\n",
       "        4.2800000e+00,  4.2900000e+00,  4.3000000e+00,  4.3100000e+00,\n",
       "        4.3200000e+00,  4.3300000e+00,  4.3400000e+00,  4.3500000e+00,\n",
       "        4.3600000e+00,  4.3700000e+00,  4.3800000e+00,  4.3900000e+00,\n",
       "        4.4000000e+00,  4.4100000e+00,  4.4200000e+00,  4.4300000e+00,\n",
       "        4.4400000e+00,  4.4500000e+00,  4.4600000e+00,  4.4700000e+00,\n",
       "        4.4800000e+00,  4.4900000e+00,  4.5000000e+00,  4.5100000e+00,\n",
       "        4.5200000e+00,  4.5300000e+00,  4.5400000e+00,  4.5500000e+00,\n",
       "        4.5600000e+00,  4.5700000e+00,  4.5800000e+00,  4.5900000e+00,\n",
       "        4.6000000e+00,  4.6100000e+00,  4.6200000e+00,  4.6300000e+00,\n",
       "        4.6400000e+00,  4.6500000e+00,  4.6600000e+00,  4.6700000e+00,\n",
       "        4.6800000e+00,  4.6900000e+00,  4.7000000e+00,  4.7100000e+00,\n",
       "        4.7200000e+00,  4.7300000e+00,  4.7400000e+00,  4.7500000e+00,\n",
       "        4.7600000e+00,  4.7700000e+00,  4.7800000e+00,  4.7900000e+00,\n",
       "        4.8000000e+00,  4.8100000e+00,  4.8200000e+00,  4.8300000e+00,\n",
       "        4.8400000e+00,  4.8500000e+00,  4.8600000e+00,  4.8700000e+00,\n",
       "        4.8800000e+00,  4.8900000e+00,  4.9000000e+00,  4.9100000e+00,\n",
       "        4.9200000e+00,  4.9300000e+00,  4.9400000e+00,  4.9500000e+00,\n",
       "        4.9600000e+00,  4.9700000e+00,  4.9800000e+00,  4.9900000e+00])"
      ]
     },
     "execution_count": 64,
     "metadata": {},
     "output_type": "execute_result"
    }
   ],
   "source": [
    "import matplotlib.pyplot as plt\n",
    "points = np.arange(-5, 5, 0.01)\n",
    "points"
   ]
  },
  {
   "cell_type": "code",
   "execution_count": 65,
   "metadata": {},
   "outputs": [],
   "source": [
    "xs, ys = np.meshgrid(points, points)"
   ]
  },
  {
   "cell_type": "code",
   "execution_count": 66,
   "metadata": {
    "slideshow": {
     "slide_type": "slide"
    }
   },
   "outputs": [
    {
     "data": {
      "text/plain": [
       "array([[-5.  , -4.99, -4.98, ...,  4.97,  4.98,  4.99],\n",
       "       [-5.  , -4.99, -4.98, ...,  4.97,  4.98,  4.99],\n",
       "       [-5.  , -4.99, -4.98, ...,  4.97,  4.98,  4.99],\n",
       "       ...,\n",
       "       [-5.  , -4.99, -4.98, ...,  4.97,  4.98,  4.99],\n",
       "       [-5.  , -4.99, -4.98, ...,  4.97,  4.98,  4.99],\n",
       "       [-5.  , -4.99, -4.98, ...,  4.97,  4.98,  4.99]])"
      ]
     },
     "execution_count": 66,
     "metadata": {},
     "output_type": "execute_result"
    }
   ],
   "source": [
    "xs"
   ]
  },
  {
   "cell_type": "code",
   "execution_count": 67,
   "metadata": {
    "slideshow": {
     "slide_type": "slide"
    }
   },
   "outputs": [
    {
     "data": {
      "text/plain": [
       "array([[-5.  , -5.  , -5.  , ..., -5.  , -5.  , -5.  ],\n",
       "       [-4.99, -4.99, -4.99, ..., -4.99, -4.99, -4.99],\n",
       "       [-4.98, -4.98, -4.98, ..., -4.98, -4.98, -4.98],\n",
       "       ...,\n",
       "       [ 4.97,  4.97,  4.97, ...,  4.97,  4.97,  4.97],\n",
       "       [ 4.98,  4.98,  4.98, ...,  4.98,  4.98,  4.98],\n",
       "       [ 4.99,  4.99,  4.99, ...,  4.99,  4.99,  4.99]])"
      ]
     },
     "execution_count": 67,
     "metadata": {},
     "output_type": "execute_result"
    }
   ],
   "source": [
    "ys"
   ]
  },
  {
   "cell_type": "code",
   "execution_count": 69,
   "metadata": {
    "slideshow": {
     "slide_type": "slide"
    }
   },
   "outputs": [],
   "source": [
    "z = np.sqrt(xs ** 2 + ys **2)"
   ]
  },
  {
   "cell_type": "markdown",
   "metadata": {
    "slideshow": {
     "slide_type": "subslide"
    }
   },
   "source": [
    "z"
   ]
  },
  {
   "cell_type": "code",
   "execution_count": 70,
   "metadata": {
    "slideshow": {
     "slide_type": "slide"
    }
   },
   "outputs": [
    {
     "data": {
      "text/plain": [
       "<matplotlib.colorbar.Colorbar at 0x7fd727d65ba8>"
      ]
     },
     "execution_count": 70,
     "metadata": {},
     "output_type": "execute_result"
    },
    {
     "data": {
      "image/png": "[encoded data removed]",
      "text/plain": [
       "<Figure size 432x288 with 2 Axes>"
      ]
     },
     "metadata": {
      "needs_background": "light"
     },
     "output_type": "display_data"
    }
   ],
   "source": [
    "plt.imshow(z, cmap=plt.cm.gray)\n",
    "plt.colorbar()"
   ]
  },
  {
   "cell_type": "code",
   "execution_count": 78,
   "metadata": {
    "slideshow": {
     "slide_type": "slide"
    }
   },
   "outputs": [
    {
     "data": {
      "text/plain": [
       "array([ 0,  2,  4,  6,  8, 10, 12, 14, 16, 18])"
      ]
     },
     "execution_count": 78,
     "metadata": {},
     "output_type": "execute_result"
    }
   ],
   "source": [
    "new_xs = np.arange(10) * 2\n",
    "new_xs"
   ]
  },
  {
   "cell_type": "code",
   "execution_count": 80,
   "metadata": {
    "slideshow": {
     "slide_type": "subslide"
    }
   },
   "outputs": [
    {
     "data": {
      "image/png": "[encoded data removed]",
      "text/plain": [
       "<Figure size 432x288 with 1 Axes>"
      ]
     },
     "metadata": {
      "needs_background": "light"
     },
     "output_type": "display_data"
    }
   ],
   "source": [
    "plt.plot(new_xs)\n",
    "plt.ylabel('some numbers')\n",
    "plt.show()"
   ]
  },
  {
   "cell_type": "code",
   "execution_count": 75,
   "metadata": {
    "slideshow": {
     "slide_type": "slide"
    }
   },
   "outputs": [
    {
     "data": {
      "text/plain": [
       "array([ 0,  1,  4,  9, 16, 25, 36, 49, 64, 81])"
      ]
     },
     "execution_count": 75,
     "metadata": {},
     "output_type": "execute_result"
    }
   ],
   "source": [
    "np.power(new_xs, 2)"
   ]
  },
  {
   "cell_type": "code",
   "execution_count": 77,
   "metadata": {
    "slideshow": {
     "slide_type": "subslide"
    }
   },
   "outputs": [
    {
     "data": {
      "image/png": "[encoded data removed]",
      "text/plain": [
       "<Figure size 432x288 with 1 Axes>"
      ]
     },
     "metadata": {
      "needs_background": "light"
     },
     "output_type": "display_data"
    }
   ],
   "source": [
    "plt.plot(np.power(new_xs, 3))\n",
    "plt.ylabel(\"More Numbers\")\n",
    "plt.show()"
   ]
  },
  {
   "cell_type": "code",
   "execution_count": 81,
   "metadata": {
    "slideshow": {
     "slide_type": "slide"
    }
   },
   "outputs": [
    {
     "data": {
      "image/png": "[encoded data removed]",
      "text/plain": [
       "<Figure size 432x288 with 1 Axes>"
      ]
     },
     "metadata": {
      "needs_background": "light"
     },
     "output_type": "display_data"
    }
   ],
   "source": [
    "t = np.arange(0., 5., 0.2)\n",
    "\n",
    "# red dashes, blue squares and green triangles\n",
    "\"\"\"\n",
    "t, t, \"r--\"  # x=t, y=t, red dashes\n",
    "t, t**2, \"bs\" # x = t, y = t squared, blue square\n",
    "t, t**3, g^ # x = t, y = t ^3, green triangles]\n",
    "\"\"\"\n",
    "plt.plot(t, t, 'r--', t, t**2, 'bs', t, t**3, 'g^')\n",
    "plt.show()"
   ]
  },
  {
   "cell_type": "code",
   "execution_count": 82,
   "metadata": {
    "slideshow": {
     "slide_type": "slide"
    }
   },
   "outputs": [
    {
     "data": {
      "image/png": "[encoded data removed]",
      "text/plain": [
       "<Figure size 432x288 with 2 Axes>"
      ]
     },
     "metadata": {
      "needs_background": "light"
     },
     "output_type": "display_data"
    }
   ],
   "source": [
    "def f(t):\n",
    "    return np.exp(-t) * np.cos(2*np.pi*t)\n",
    "\n",
    "t1 = np.arange(0.0, 5.0, 0.1)\n",
    "t2 = np.arange(0.0, 5.0, 0.02)\n",
    "\n",
    "plt.figure()\n",
    "plt.subplot(211)\n",
    "plt.plot(t1, f(t1), 'bo', t2, f(t2), 'k')\n",
    "\n",
    "plt.subplot(212)\n",
    "plt.plot(t2, np.cos(2*np.pi*t2), 'r--')\n",
    "plt.show()"
   ]
  },
  {
   "cell_type": "code",
   "execution_count": 83,
   "metadata": {
    "slideshow": {
     "slide_type": "slide"
    }
   },
   "outputs": [
    {
     "data": {
      "image/png": "[encoded data removed]",
      "text/plain": [
       "<Figure size 432x288 with 1 Axes>"
      ]
     },
     "metadata": {},
     "output_type": "display_data"
    }
   ],
   "source": [
    "from matplotlib import pyplot as plt\n",
    "import numpy as np\n",
    "fig = plt.figure()\n",
    "ax = fig.add_axes([0,0,1,1])\n",
    "ax.axis('equal')\n",
    "langs = ['C', 'C++', 'Java', 'Python', 'PHP']\n",
    "students = [23,17,35,29,12]\n",
    "ax.pie(students, labels = langs,autopct='%1.2f%%')\n",
    "plt.show()"
   ]
  },
  {
   "cell_type": "code",
   "execution_count": 85,
   "metadata": {
    "slideshow": {
     "slide_type": "slide"
    }
   },
   "outputs": [
    {
     "name": "stdout",
     "output_type": "stream",
     "text": [
      "[[-2.         -2.         -2.         -2.         -2.         -2.\n",
      "  -2.         -2.         -2.         -2.         -2.         -2.\n",
      "  -2.         -2.         -2.         -2.         -2.         -2.\n",
      "  -2.         -2.         -2.         -2.         -2.         -2.\n",
      "  -2.         -2.         -2.         -2.         -2.         -2.        ]\n",
      " [-1.86206897 -1.86206897 -1.86206897 -1.86206897 -1.86206897 -1.86206897\n",
      "  -1.86206897 -1.86206897 -1.86206897 -1.86206897 -1.86206897 -1.86206897\n",
      "  -1.86206897 -1.86206897 -1.86206897 -1.86206897 -1.86206897 -1.86206897\n",
      "  -1.86206897 -1.86206897 -1.86206897 -1.86206897 -1.86206897 -1.86206897\n",
      "  -1.86206897 -1.86206897 -1.86206897 -1.86206897 -1.86206897 -1.86206897]\n",
      " [-1.72413793 -1.72413793 -1.72413793 -1.72413793 -1.72413793 -1.72413793\n",
      "  -1.72413793 -1.72413793 -1.72413793 -1.72413793 -1.72413793 -1.72413793\n",
      "  -1.72413793 -1.72413793 -1.72413793 -1.72413793 -1.72413793 -1.72413793\n",
      "  -1.72413793 -1.72413793 -1.72413793 -1.72413793 -1.72413793 -1.72413793\n",
      "  -1.72413793 -1.72413793 -1.72413793 -1.72413793 -1.72413793 -1.72413793]\n",
      " [-1.5862069  -1.5862069  -1.5862069  -1.5862069  -1.5862069  -1.5862069\n",
      "  -1.5862069  -1.5862069  -1.5862069  -1.5862069  -1.5862069  -1.5862069\n",
      "  -1.5862069  -1.5862069  -1.5862069  -1.5862069  -1.5862069  -1.5862069\n",
      "  -1.5862069  -1.5862069  -1.5862069  -1.5862069  -1.5862069  -1.5862069\n",
      "  -1.5862069  -1.5862069  -1.5862069  -1.5862069  -1.5862069  -1.5862069 ]\n",
      " [-1.44827586 -1.44827586 -1.44827586 -1.44827586 -1.44827586 -1.44827586\n",
      "  -1.44827586 -1.44827586 -1.44827586 -1.44827586 -1.44827586 -1.44827586\n",
      "  -1.44827586 -1.44827586 -1.44827586 -1.44827586 -1.44827586 -1.44827586\n",
      "  -1.44827586 -1.44827586 -1.44827586 -1.44827586 -1.44827586 -1.44827586\n",
      "  -1.44827586 -1.44827586 -1.44827586 -1.44827586 -1.44827586 -1.44827586]\n",
      " [-1.31034483 -1.31034483 -1.31034483 -1.31034483 -1.31034483 -1.31034483\n",
      "  -1.31034483 -1.31034483 -1.31034483 -1.31034483 -1.31034483 -1.31034483\n",
      "  -1.31034483 -1.31034483 -1.31034483 -1.31034483 -1.31034483 -1.31034483\n",
      "  -1.31034483 -1.31034483 -1.31034483 -1.31034483 -1.31034483 -1.31034483\n",
      "  -1.31034483 -1.31034483 -1.31034483 -1.31034483 -1.31034483 -1.31034483]\n",
      " [-1.17241379 -1.17241379 -1.17241379 -1.17241379 -1.17241379 -1.17241379\n",
      "  -1.17241379 -1.17241379 -1.17241379 -1.17241379 -1.17241379 -1.17241379\n",
      "  -1.17241379 -1.17241379 -1.17241379 -1.17241379 -1.17241379 -1.17241379\n",
      "  -1.17241379 -1.17241379 -1.17241379 -1.17241379 -1.17241379 -1.17241379\n",
      "  -1.17241379 -1.17241379 -1.17241379 -1.17241379 -1.17241379 -1.17241379]\n",
      " [-1.03448276 -1.03448276 -1.03448276 -1.03448276 -1.03448276 -1.03448276\n",
      "  -1.03448276 -1.03448276 -1.03448276 -1.03448276 -1.03448276 -1.03448276\n",
      "  -1.03448276 -1.03448276 -1.03448276 -1.03448276 -1.03448276 -1.03448276\n",
      "  -1.03448276 -1.03448276 -1.03448276 -1.03448276 -1.03448276 -1.03448276\n",
      "  -1.03448276 -1.03448276 -1.03448276 -1.03448276 -1.03448276 -1.03448276]\n",
      " [-0.89655172 -0.89655172 -0.89655172 -0.89655172 -0.89655172 -0.89655172\n",
      "  -0.89655172 -0.89655172 -0.89655172 -0.89655172 -0.89655172 -0.89655172\n",
      "  -0.89655172 -0.89655172 -0.89655172 -0.89655172 -0.89655172 -0.89655172\n",
      "  -0.89655172 -0.89655172 -0.89655172 -0.89655172 -0.89655172 -0.89655172\n",
      "  -0.89655172 -0.89655172 -0.89655172 -0.89655172 -0.89655172 -0.89655172]\n",
      " [-0.75862069 -0.75862069 -0.75862069 -0.75862069 -0.75862069 -0.75862069\n",
      "  -0.75862069 -0.75862069 -0.75862069 -0.75862069 -0.75862069 -0.75862069\n",
      "  -0.75862069 -0.75862069 -0.75862069 -0.75862069 -0.75862069 -0.75862069\n",
      "  -0.75862069 -0.75862069 -0.75862069 -0.75862069 -0.75862069 -0.75862069\n",
      "  -0.75862069 -0.75862069 -0.75862069 -0.75862069 -0.75862069 -0.75862069]\n",
      " [-0.62068966 -0.62068966 -0.62068966 -0.62068966 -0.62068966 -0.62068966\n",
      "  -0.62068966 -0.62068966 -0.62068966 -0.62068966 -0.62068966 -0.62068966\n",
      "  -0.62068966 -0.62068966 -0.62068966 -0.62068966 -0.62068966 -0.62068966\n",
      "  -0.62068966 -0.62068966 -0.62068966 -0.62068966 -0.62068966 -0.62068966\n",
      "  -0.62068966 -0.62068966 -0.62068966 -0.62068966 -0.62068966 -0.62068966]\n",
      " [-0.48275862 -0.48275862 -0.48275862 -0.48275862 -0.48275862 -0.48275862\n",
      "  -0.48275862 -0.48275862 -0.48275862 -0.48275862 -0.48275862 -0.48275862\n",
      "  -0.48275862 -0.48275862 -0.48275862 -0.48275862 -0.48275862 -0.48275862\n",
      "  -0.48275862 -0.48275862 -0.48275862 -0.48275862 -0.48275862 -0.48275862\n",
      "  -0.48275862 -0.48275862 -0.48275862 -0.48275862 -0.48275862 -0.48275862]\n",
      " [-0.34482759 -0.34482759 -0.34482759 -0.34482759 -0.34482759 -0.34482759\n",
      "  -0.34482759 -0.34482759 -0.34482759 -0.34482759 -0.34482759 -0.34482759\n",
      "  -0.34482759 -0.34482759 -0.34482759 -0.34482759 -0.34482759 -0.34482759\n",
      "  -0.34482759 -0.34482759 -0.34482759 -0.34482759 -0.34482759 -0.34482759\n",
      "  -0.34482759 -0.34482759 -0.34482759 -0.34482759 -0.34482759 -0.34482759]\n",
      " [-0.20689655 -0.20689655 -0.20689655 -0.20689655 -0.20689655 -0.20689655\n",
      "  -0.20689655 -0.20689655 -0.20689655 -0.20689655 -0.20689655 -0.20689655\n",
      "  -0.20689655 -0.20689655 -0.20689655 -0.20689655 -0.20689655 -0.20689655\n",
      "  -0.20689655 -0.20689655 -0.20689655 -0.20689655 -0.20689655 -0.20689655\n",
      "  -0.20689655 -0.20689655 -0.20689655 -0.20689655 -0.20689655 -0.20689655]\n",
      " [-0.06896552 -0.06896552 -0.06896552 -0.06896552 -0.06896552 -0.06896552\n",
      "  -0.06896552 -0.06896552 -0.06896552 -0.06896552 -0.06896552 -0.06896552\n",
      "  -0.06896552 -0.06896552 -0.06896552 -0.06896552 -0.06896552 -0.06896552\n",
      "  -0.06896552 -0.06896552 -0.06896552 -0.06896552 -0.06896552 -0.06896552\n",
      "  -0.06896552 -0.06896552 -0.06896552 -0.06896552 -0.06896552 -0.06896552]\n",
      " [ 0.06896552  0.06896552  0.06896552  0.06896552  0.06896552  0.06896552\n",
      "   0.06896552  0.06896552  0.06896552  0.06896552  0.06896552  0.06896552\n",
      "   0.06896552  0.06896552  0.06896552  0.06896552  0.06896552  0.06896552\n",
      "   0.06896552  0.06896552  0.06896552  0.06896552  0.06896552  0.06896552\n",
      "   0.06896552  0.06896552  0.06896552  0.06896552  0.06896552  0.06896552]\n",
      " [ 0.20689655  0.20689655  0.20689655  0.20689655  0.20689655  0.20689655\n",
      "   0.20689655  0.20689655  0.20689655  0.20689655  0.20689655  0.20689655\n",
      "   0.20689655  0.20689655  0.20689655  0.20689655  0.20689655  0.20689655\n",
      "   0.20689655  0.20689655  0.20689655  0.20689655  0.20689655  0.20689655\n",
      "   0.20689655  0.20689655  0.20689655  0.20689655  0.20689655  0.20689655]\n",
      " [ 0.34482759  0.34482759  0.34482759  0.34482759  0.34482759  0.34482759\n",
      "   0.34482759  0.34482759  0.34482759  0.34482759  0.34482759  0.34482759\n",
      "   0.34482759  0.34482759  0.34482759  0.34482759  0.34482759  0.34482759\n",
      "   0.34482759  0.34482759  0.34482759  0.34482759  0.34482759  0.34482759\n",
      "   0.34482759  0.34482759  0.34482759  0.34482759  0.34482759  0.34482759]\n",
      " [ 0.48275862  0.48275862  0.48275862  0.48275862  0.48275862  0.48275862\n",
      "   0.48275862  0.48275862  0.48275862  0.48275862  0.48275862  0.48275862\n",
      "   0.48275862  0.48275862  0.48275862  0.48275862  0.48275862  0.48275862\n",
      "   0.48275862  0.48275862  0.48275862  0.48275862  0.48275862  0.48275862\n",
      "   0.48275862  0.48275862  0.48275862  0.48275862  0.48275862  0.48275862]\n",
      " [ 0.62068966  0.62068966  0.62068966  0.62068966  0.62068966  0.62068966\n",
      "   0.62068966  0.62068966  0.62068966  0.62068966  0.62068966  0.62068966\n",
      "   0.62068966  0.62068966  0.62068966  0.62068966  0.62068966  0.62068966\n",
      "   0.62068966  0.62068966  0.62068966  0.62068966  0.62068966  0.62068966\n",
      "   0.62068966  0.62068966  0.62068966  0.62068966  0.62068966  0.62068966]\n",
      " [ 0.75862069  0.75862069  0.75862069  0.75862069  0.75862069  0.75862069\n",
      "   0.75862069  0.75862069  0.75862069  0.75862069  0.75862069  0.75862069\n",
      "   0.75862069  0.75862069  0.75862069  0.75862069  0.75862069  0.75862069\n",
      "   0.75862069  0.75862069  0.75862069  0.75862069  0.75862069  0.75862069\n",
      "   0.75862069  0.75862069  0.75862069  0.75862069  0.75862069  0.75862069]\n",
      " [ 0.89655172  0.89655172  0.89655172  0.89655172  0.89655172  0.89655172\n",
      "   0.89655172  0.89655172  0.89655172  0.89655172  0.89655172  0.89655172\n",
      "   0.89655172  0.89655172  0.89655172  0.89655172  0.89655172  0.89655172\n",
      "   0.89655172  0.89655172  0.89655172  0.89655172  0.89655172  0.89655172\n",
      "   0.89655172  0.89655172  0.89655172  0.89655172  0.89655172  0.89655172]\n",
      " [ 1.03448276  1.03448276  1.03448276  1.03448276  1.03448276  1.03448276\n",
      "   1.03448276  1.03448276  1.03448276  1.03448276  1.03448276  1.03448276\n",
      "   1.03448276  1.03448276  1.03448276  1.03448276  1.03448276  1.03448276\n",
      "   1.03448276  1.03448276  1.03448276  1.03448276  1.03448276  1.03448276\n",
      "   1.03448276  1.03448276  1.03448276  1.03448276  1.03448276  1.03448276]\n",
      " [ 1.17241379  1.17241379  1.17241379  1.17241379  1.17241379  1.17241379\n",
      "   1.17241379  1.17241379  1.17241379  1.17241379  1.17241379  1.17241379\n",
      "   1.17241379  1.17241379  1.17241379  1.17241379  1.17241379  1.17241379\n",
      "   1.17241379  1.17241379  1.17241379  1.17241379  1.17241379  1.17241379\n",
      "   1.17241379  1.17241379  1.17241379  1.17241379  1.17241379  1.17241379]\n",
      " [ 1.31034483  1.31034483  1.31034483  1.31034483  1.31034483  1.31034483\n",
      "   1.31034483  1.31034483  1.31034483  1.31034483  1.31034483  1.31034483\n",
      "   1.31034483  1.31034483  1.31034483  1.31034483  1.31034483  1.31034483\n",
      "   1.31034483  1.31034483  1.31034483  1.31034483  1.31034483  1.31034483\n",
      "   1.31034483  1.31034483  1.31034483  1.31034483  1.31034483  1.31034483]\n",
      " [ 1.44827586  1.44827586  1.44827586  1.44827586  1.44827586  1.44827586\n",
      "   1.44827586  1.44827586  1.44827586  1.44827586  1.44827586  1.44827586\n",
      "   1.44827586  1.44827586  1.44827586  1.44827586  1.44827586  1.44827586\n",
      "   1.44827586  1.44827586  1.44827586  1.44827586  1.44827586  1.44827586\n",
      "   1.44827586  1.44827586  1.44827586  1.44827586  1.44827586  1.44827586]\n",
      " [ 1.5862069   1.5862069   1.5862069   1.5862069   1.5862069   1.5862069\n",
      "   1.5862069   1.5862069   1.5862069   1.5862069   1.5862069   1.5862069\n",
      "   1.5862069   1.5862069   1.5862069   1.5862069   1.5862069   1.5862069\n",
      "   1.5862069   1.5862069   1.5862069   1.5862069   1.5862069   1.5862069\n",
      "   1.5862069   1.5862069   1.5862069   1.5862069   1.5862069   1.5862069 ]\n",
      " [ 1.72413793  1.72413793  1.72413793  1.72413793  1.72413793  1.72413793\n",
      "   1.72413793  1.72413793  1.72413793  1.72413793  1.72413793  1.72413793\n",
      "   1.72413793  1.72413793  1.72413793  1.72413793  1.72413793  1.72413793\n",
      "   1.72413793  1.72413793  1.72413793  1.72413793  1.72413793  1.72413793\n",
      "   1.72413793  1.72413793  1.72413793  1.72413793  1.72413793  1.72413793]\n",
      " [ 1.86206897  1.86206897  1.86206897  1.86206897  1.86206897  1.86206897\n",
      "   1.86206897  1.86206897  1.86206897  1.86206897  1.86206897  1.86206897\n",
      "   1.86206897  1.86206897  1.86206897  1.86206897  1.86206897  1.86206897\n",
      "   1.86206897  1.86206897  1.86206897  1.86206897  1.86206897  1.86206897\n",
      "   1.86206897  1.86206897  1.86206897  1.86206897  1.86206897  1.86206897]\n",
      " [ 2.          2.          2.          2.          2.          2.\n",
      "   2.          2.          2.          2.          2.          2.\n",
      "   2.          2.          2.          2.          2.          2.\n",
      "   2.          2.          2.          2.          2.          2.\n",
      "   2.          2.          2.          2.          2.          2.        ]]\n",
      "[[-2.         -1.86206897 -1.72413793 -1.5862069  -1.44827586 -1.31034483\n",
      "  -1.17241379 -1.03448276 -0.89655172 -0.75862069 -0.62068966 -0.48275862\n",
      "  -0.34482759 -0.20689655 -0.06896552  0.06896552  0.20689655  0.34482759\n",
      "   0.48275862  0.62068966  0.75862069  0.89655172  1.03448276  1.17241379\n",
      "   1.31034483  1.44827586  1.5862069   1.72413793  1.86206897  2.        ]\n",
      " [-2.         -1.86206897 -1.72413793 -1.5862069  -1.44827586 -1.31034483\n",
      "  -1.17241379 -1.03448276 -0.89655172 -0.75862069 -0.62068966 -0.48275862\n",
      "  -0.34482759 -0.20689655 -0.06896552  0.06896552  0.20689655  0.34482759\n",
      "   0.48275862  0.62068966  0.75862069  0.89655172  1.03448276  1.17241379\n",
      "   1.31034483  1.44827586  1.5862069   1.72413793  1.86206897  2.        ]\n",
      " [-2.         -1.86206897 -1.72413793 -1.5862069  -1.44827586 -1.31034483\n",
      "  -1.17241379 -1.03448276 -0.89655172 -0.75862069 -0.62068966 -0.48275862\n",
      "  -0.34482759 -0.20689655 -0.06896552  0.06896552  0.20689655  0.34482759\n",
      "   0.48275862  0.62068966  0.75862069  0.89655172  1.03448276  1.17241379\n",
      "   1.31034483  1.44827586  1.5862069   1.72413793  1.86206897  2.        ]\n",
      " [-2.         -1.86206897 -1.72413793 -1.5862069  -1.44827586 -1.31034483\n",
      "  -1.17241379 -1.03448276 -0.89655172 -0.75862069 -0.62068966 -0.48275862\n",
      "  -0.34482759 -0.20689655 -0.06896552  0.06896552  0.20689655  0.34482759\n",
      "   0.48275862  0.62068966  0.75862069  0.89655172  1.03448276  1.17241379\n",
      "   1.31034483  1.44827586  1.5862069   1.72413793  1.86206897  2.        ]\n",
      " [-2.         -1.86206897 -1.72413793 -1.5862069  -1.44827586 -1.31034483\n",
      "  -1.17241379 -1.03448276 -0.89655172 -0.75862069 -0.62068966 -0.48275862\n",
      "  -0.34482759 -0.20689655 -0.06896552  0.06896552  0.20689655  0.34482759\n",
      "   0.48275862  0.62068966  0.75862069  0.89655172  1.03448276  1.17241379\n",
      "   1.31034483  1.44827586  1.5862069   1.72413793  1.86206897  2.        ]\n",
      " [-2.         -1.86206897 -1.72413793 -1.5862069  -1.44827586 -1.31034483\n",
      "  -1.17241379 -1.03448276 -0.89655172 -0.75862069 -0.62068966 -0.48275862\n",
      "  -0.34482759 -0.20689655 -0.06896552  0.06896552  0.20689655  0.34482759\n",
      "   0.48275862  0.62068966  0.75862069  0.89655172  1.03448276  1.17241379\n",
      "   1.31034483  1.44827586  1.5862069   1.72413793  1.86206897  2.        ]\n",
      " [-2.         -1.86206897 -1.72413793 -1.5862069  -1.44827586 -1.31034483\n",
      "  -1.17241379 -1.03448276 -0.89655172 -0.75862069 -0.62068966 -0.48275862\n",
      "  -0.34482759 -0.20689655 -0.06896552  0.06896552  0.20689655  0.34482759\n",
      "   0.48275862  0.62068966  0.75862069  0.89655172  1.03448276  1.17241379\n",
      "   1.31034483  1.44827586  1.5862069   1.72413793  1.86206897  2.        ]\n",
      " [-2.         -1.86206897 -1.72413793 -1.5862069  -1.44827586 -1.31034483\n",
      "  -1.17241379 -1.03448276 -0.89655172 -0.75862069 -0.62068966 -0.48275862\n",
      "  -0.34482759 -0.20689655 -0.06896552  0.06896552  0.20689655  0.34482759\n",
      "   0.48275862  0.62068966  0.75862069  0.89655172  1.03448276  1.17241379\n",
      "   1.31034483  1.44827586  1.5862069   1.72413793  1.86206897  2.        ]\n",
      " [-2.         -1.86206897 -1.72413793 -1.5862069  -1.44827586 -1.31034483\n",
      "  -1.17241379 -1.03448276 -0.89655172 -0.75862069 -0.62068966 -0.48275862\n",
      "  -0.34482759 -0.20689655 -0.06896552  0.06896552  0.20689655  0.34482759\n",
      "   0.48275862  0.62068966  0.75862069  0.89655172  1.03448276  1.17241379\n",
      "   1.31034483  1.44827586  1.5862069   1.72413793  1.86206897  2.        ]\n",
      " [-2.         -1.86206897 -1.72413793 -1.5862069  -1.44827586 -1.31034483\n",
      "  -1.17241379 -1.03448276 -0.89655172 -0.75862069 -0.62068966 -0.48275862\n",
      "  -0.34482759 -0.20689655 -0.06896552  0.06896552  0.20689655  0.34482759\n",
      "   0.48275862  0.62068966  0.75862069  0.89655172  1.03448276  1.17241379\n",
      "   1.31034483  1.44827586  1.5862069   1.72413793  1.86206897  2.        ]\n",
      " [-2.         -1.86206897 -1.72413793 -1.5862069  -1.44827586 -1.31034483\n",
      "  -1.17241379 -1.03448276 -0.89655172 -0.75862069 -0.62068966 -0.48275862\n",
      "  -0.34482759 -0.20689655 -0.06896552  0.06896552  0.20689655  0.34482759\n",
      "   0.48275862  0.62068966  0.75862069  0.89655172  1.03448276  1.17241379\n",
      "   1.31034483  1.44827586  1.5862069   1.72413793  1.86206897  2.        ]\n",
      " [-2.         -1.86206897 -1.72413793 -1.5862069  -1.44827586 -1.31034483\n",
      "  -1.17241379 -1.03448276 -0.89655172 -0.75862069 -0.62068966 -0.48275862\n",
      "  -0.34482759 -0.20689655 -0.06896552  0.06896552  0.20689655  0.34482759\n",
      "   0.48275862  0.62068966  0.75862069  0.89655172  1.03448276  1.17241379\n",
      "   1.31034483  1.44827586  1.5862069   1.72413793  1.86206897  2.        ]\n",
      " [-2.         -1.86206897 -1.72413793 -1.5862069  -1.44827586 -1.31034483\n",
      "  -1.17241379 -1.03448276 -0.89655172 -0.75862069 -0.62068966 -0.48275862\n",
      "  -0.34482759 -0.20689655 -0.06896552  0.06896552  0.20689655  0.34482759\n",
      "   0.48275862  0.62068966  0.75862069  0.89655172  1.03448276  1.17241379\n",
      "   1.31034483  1.44827586  1.5862069   1.72413793  1.86206897  2.        ]\n",
      " [-2.         -1.86206897 -1.72413793 -1.5862069  -1.44827586 -1.31034483\n",
      "  -1.17241379 -1.03448276 -0.89655172 -0.75862069 -0.62068966 -0.48275862\n",
      "  -0.34482759 -0.20689655 -0.06896552  0.06896552  0.20689655  0.34482759\n",
      "   0.48275862  0.62068966  0.75862069  0.89655172  1.03448276  1.17241379\n",
      "   1.31034483  1.44827586  1.5862069   1.72413793  1.86206897  2.        ]\n",
      " [-2.         -1.86206897 -1.72413793 -1.5862069  -1.44827586 -1.31034483\n",
      "  -1.17241379 -1.03448276 -0.89655172 -0.75862069 -0.62068966 -0.48275862\n",
      "  -0.34482759 -0.20689655 -0.06896552  0.06896552  0.20689655  0.34482759\n",
      "   0.48275862  0.62068966  0.75862069  0.89655172  1.03448276  1.17241379\n",
      "   1.31034483  1.44827586  1.5862069   1.72413793  1.86206897  2.        ]\n",
      " [-2.         -1.86206897 -1.72413793 -1.5862069  -1.44827586 -1.31034483\n",
      "  -1.17241379 -1.03448276 -0.89655172 -0.75862069 -0.62068966 -0.48275862\n",
      "  -0.34482759 -0.20689655 -0.06896552  0.06896552  0.20689655  0.34482759\n",
      "   0.48275862  0.62068966  0.75862069  0.89655172  1.03448276  1.17241379\n",
      "   1.31034483  1.44827586  1.5862069   1.72413793  1.86206897  2.        ]\n",
      " [-2.         -1.86206897 -1.72413793 -1.5862069  -1.44827586 -1.31034483\n",
      "  -1.17241379 -1.03448276 -0.89655172 -0.75862069 -0.62068966 -0.48275862\n",
      "  -0.34482759 -0.20689655 -0.06896552  0.06896552  0.20689655  0.34482759\n",
      "   0.48275862  0.62068966  0.75862069  0.89655172  1.03448276  1.17241379\n",
      "   1.31034483  1.44827586  1.5862069   1.72413793  1.86206897  2.        ]\n",
      " [-2.         -1.86206897 -1.72413793 -1.5862069  -1.44827586 -1.31034483\n",
      "  -1.17241379 -1.03448276 -0.89655172 -0.75862069 -0.62068966 -0.48275862\n",
      "  -0.34482759 -0.20689655 -0.06896552  0.06896552  0.20689655  0.34482759\n",
      "   0.48275862  0.62068966  0.75862069  0.89655172  1.03448276  1.17241379\n",
      "   1.31034483  1.44827586  1.5862069   1.72413793  1.86206897  2.        ]\n",
      " [-2.         -1.86206897 -1.72413793 -1.5862069  -1.44827586 -1.31034483\n",
      "  -1.17241379 -1.03448276 -0.89655172 -0.75862069 -0.62068966 -0.48275862\n",
      "  -0.34482759 -0.20689655 -0.06896552  0.06896552  0.20689655  0.34482759\n",
      "   0.48275862  0.62068966  0.75862069  0.89655172  1.03448276  1.17241379\n",
      "   1.31034483  1.44827586  1.5862069   1.72413793  1.86206897  2.        ]\n",
      " [-2.         -1.86206897 -1.72413793 -1.5862069  -1.44827586 -1.31034483\n",
      "  -1.17241379 -1.03448276 -0.89655172 -0.75862069 -0.62068966 -0.48275862\n",
      "  -0.34482759 -0.20689655 -0.06896552  0.06896552  0.20689655  0.34482759\n",
      "   0.48275862  0.62068966  0.75862069  0.89655172  1.03448276  1.17241379\n",
      "   1.31034483  1.44827586  1.5862069   1.72413793  1.86206897  2.        ]\n",
      " [-2.         -1.86206897 -1.72413793 -1.5862069  -1.44827586 -1.31034483\n",
      "  -1.17241379 -1.03448276 -0.89655172 -0.75862069 -0.62068966 -0.48275862\n",
      "  -0.34482759 -0.20689655 -0.06896552  0.06896552  0.20689655  0.34482759\n",
      "   0.48275862  0.62068966  0.75862069  0.89655172  1.03448276  1.17241379\n",
      "   1.31034483  1.44827586  1.5862069   1.72413793  1.86206897  2.        ]\n",
      " [-2.         -1.86206897 -1.72413793 -1.5862069  -1.44827586 -1.31034483\n",
      "  -1.17241379 -1.03448276 -0.89655172 -0.75862069 -0.62068966 -0.48275862\n",
      "  -0.34482759 -0.20689655 -0.06896552  0.06896552  0.20689655  0.34482759\n",
      "   0.48275862  0.62068966  0.75862069  0.89655172  1.03448276  1.17241379\n",
      "   1.31034483  1.44827586  1.5862069   1.72413793  1.86206897  2.        ]\n",
      " [-2.         -1.86206897 -1.72413793 -1.5862069  -1.44827586 -1.31034483\n",
      "  -1.17241379 -1.03448276 -0.89655172 -0.75862069 -0.62068966 -0.48275862\n",
      "  -0.34482759 -0.20689655 -0.06896552  0.06896552  0.20689655  0.34482759\n",
      "   0.48275862  0.62068966  0.75862069  0.89655172  1.03448276  1.17241379\n",
      "   1.31034483  1.44827586  1.5862069   1.72413793  1.86206897  2.        ]\n",
      " [-2.         -1.86206897 -1.72413793 -1.5862069  -1.44827586 -1.31034483\n",
      "  -1.17241379 -1.03448276 -0.89655172 -0.75862069 -0.62068966 -0.48275862\n",
      "  -0.34482759 -0.20689655 -0.06896552  0.06896552  0.20689655  0.34482759\n",
      "   0.48275862  0.62068966  0.75862069  0.89655172  1.03448276  1.17241379\n",
      "   1.31034483  1.44827586  1.5862069   1.72413793  1.86206897  2.        ]\n",
      " [-2.         -1.86206897 -1.72413793 -1.5862069  -1.44827586 -1.31034483\n",
      "  -1.17241379 -1.03448276 -0.89655172 -0.75862069 -0.62068966 -0.48275862\n",
      "  -0.34482759 -0.20689655 -0.06896552  0.06896552  0.20689655  0.34482759\n",
      "   0.48275862  0.62068966  0.75862069  0.89655172  1.03448276  1.17241379\n",
      "   1.31034483  1.44827586  1.5862069   1.72413793  1.86206897  2.        ]\n",
      " [-2.         -1.86206897 -1.72413793 -1.5862069  -1.44827586 -1.31034483\n",
      "  -1.17241379 -1.03448276 -0.89655172 -0.75862069 -0.62068966 -0.48275862\n",
      "  -0.34482759 -0.20689655 -0.06896552  0.06896552  0.20689655  0.34482759\n",
      "   0.48275862  0.62068966  0.75862069  0.89655172  1.03448276  1.17241379\n",
      "   1.31034483  1.44827586  1.5862069   1.72413793  1.86206897  2.        ]\n",
      " [-2.         -1.86206897 -1.72413793 -1.5862069  -1.44827586 -1.31034483\n",
      "  -1.17241379 -1.03448276 -0.89655172 -0.75862069 -0.62068966 -0.48275862\n",
      "  -0.34482759 -0.20689655 -0.06896552  0.06896552  0.20689655  0.34482759\n",
      "   0.48275862  0.62068966  0.75862069  0.89655172  1.03448276  1.17241379\n",
      "   1.31034483  1.44827586  1.5862069   1.72413793  1.86206897  2.        ]\n",
      " [-2.         -1.86206897 -1.72413793 -1.5862069  -1.44827586 -1.31034483\n",
      "  -1.17241379 -1.03448276 -0.89655172 -0.75862069 -0.62068966 -0.48275862\n",
      "  -0.34482759 -0.20689655 -0.06896552  0.06896552  0.20689655  0.34482759\n",
      "   0.48275862  0.62068966  0.75862069  0.89655172  1.03448276  1.17241379\n",
      "   1.31034483  1.44827586  1.5862069   1.72413793  1.86206897  2.        ]\n",
      " [-2.         -1.86206897 -1.72413793 -1.5862069  -1.44827586 -1.31034483\n",
      "  -1.17241379 -1.03448276 -0.89655172 -0.75862069 -0.62068966 -0.48275862\n",
      "  -0.34482759 -0.20689655 -0.06896552  0.06896552  0.20689655  0.34482759\n",
      "   0.48275862  0.62068966  0.75862069  0.89655172  1.03448276  1.17241379\n",
      "   1.31034483  1.44827586  1.5862069   1.72413793  1.86206897  2.        ]\n",
      " [-2.         -1.86206897 -1.72413793 -1.5862069  -1.44827586 -1.31034483\n",
      "  -1.17241379 -1.03448276 -0.89655172 -0.75862069 -0.62068966 -0.48275862\n",
      "  -0.34482759 -0.20689655 -0.06896552  0.06896552  0.20689655  0.34482759\n",
      "   0.48275862  0.62068966  0.75862069  0.89655172  1.03448276  1.17241379\n",
      "   1.31034483  1.44827586  1.5862069   1.72413793  1.86206897  2.        ]]\n",
      "[[-0.14550003  0.37711637  0.77158563  0.97300878  0.98281051  0.84395529\n",
      "   0.61482584  0.35018219  0.09128874 -0.13645656 -0.32132971 -0.46118753\n",
      "  -0.55925174 -0.62065892 -0.6500367  -0.6500367  -0.62065892 -0.55925174\n",
      "  -0.46118753 -0.32132971 -0.13645656  0.09128874  0.35018219  0.61482584\n",
      "   0.84395529  0.98281051  0.97300878  0.77158563  0.37711637 -0.14550003]\n",
      " [ 0.37711637  0.79522584  0.98773718  0.95538608  0.75287196  0.45459318\n",
      "   0.12910458 -0.17404272 -0.42710005 -0.62065892 -0.75773327 -0.84791098\n",
      "  -0.90277665 -0.93286355 -0.94589175 -0.94589175 -0.93286355 -0.90277665\n",
      "  -0.84791098 -0.75773327 -0.62065892 -0.42710005 -0.17404272  0.12910458\n",
      "   0.45459318  0.75287196  0.95538608  0.98773718  0.79522584  0.37711637]\n",
      " [ 0.77158563  0.98773718  0.94345884  0.70065489  0.35018219 -0.02273185\n",
      "  -0.35712049 -0.62065892 -0.80515239 -0.91848491 -0.97669508 -0.99794535\n",
      "  -0.99874851 -0.99205554 -0.98655193 -0.98655193 -0.99205554 -0.99874851\n",
      "  -0.99794535 -0.97669508 -0.91848491 -0.80515239 -0.62065892 -0.35712049\n",
      "  -0.02273185  0.35018219  0.70065489  0.94345884  0.98773718  0.77158563]\n",
      " [ 0.97300878  0.95538608  0.70065489  0.31429664 -0.09867286 -0.46118753\n",
      "  -0.73236077 -0.90277665 -0.98415289 -0.99874851 -0.97127026 -0.92396165\n",
      "  -0.87438263 -0.83496114 -0.81342262 -0.81342262 -0.83496114 -0.87438263\n",
      "  -0.92396165 -0.97127026 -0.99874851 -0.98415289 -0.90277665 -0.73236077\n",
      "  -0.46118753 -0.09867286  0.31429664  0.70065489  0.95538608  0.97300878]\n",
      " [ 0.98281051  0.75287196  0.35018219 -0.09867286 -0.49460739 -0.78200886\n",
      "  -0.94589175 -0.99966033 -0.97127026 -0.89220853 -0.79070657 -0.6887493\n",
      "  -0.60168794 -0.53922183 -0.50679499 -0.50679499 -0.53922183 -0.60168794\n",
      "  -0.6887493  -0.79070657 -0.89220853 -0.97127026 -0.99966033 -0.94589175\n",
      "  -0.78200886 -0.49460739 -0.09867286  0.35018219  0.75287196  0.98281051]\n",
      " [ 0.84395529  0.45459318 -0.02273185 -0.46118753 -0.78200886 -0.95755066\n",
      "  -0.99874851 -0.9378429  -0.81342262 -0.66067124 -0.50679499 -0.37023606\n",
      "  -0.26201862 -0.18788998 -0.15039073 -0.15039073 -0.18788998 -0.26201862\n",
      "  -0.37023606 -0.50679499 -0.66067124 -0.81342262 -0.9378429  -0.99874851\n",
      "  -0.95755066 -0.78200886 -0.46118753 -0.02273185  0.45459318  0.84395529]\n",
      " [ 0.61482584  0.12910458 -0.35712049 -0.73236077 -0.94589175 -0.99874851\n",
      "  -0.92396165 -0.76684587 -0.57086809 -0.37023606 -0.18788998 -0.03680535\n",
      "   0.07725909  0.1528347   0.19031793  0.19031793  0.1528347   0.07725909\n",
      "  -0.03680535 -0.18788998 -0.37023606 -0.57086809 -0.76684587 -0.92396165\n",
      "  -0.99874851 -0.94589175 -0.73236077 -0.35712049  0.12910458  0.61482584]\n",
      " [ 0.35018219 -0.17404272 -0.62065892 -0.90277665 -0.99966033 -0.9378429\n",
      "  -0.76684587 -0.53922183 -0.29854069 -0.07479369  0.11513023  0.26440399\n",
      "   0.37253178  0.44200762  0.47581068  0.47581068  0.44200762  0.37253178\n",
      "   0.26440399  0.11513023 -0.07479369 -0.29854069 -0.53922183 -0.76684587\n",
      "  -0.9378429  -0.99966033 -0.90277665 -0.62065892 -0.17404272  0.35018219]\n",
      " [ 0.09128874 -0.42710005 -0.80515239 -0.98415289 -0.97127026 -0.81342262\n",
      "  -0.57086809 -0.29854069 -0.03680535  0.19031793  0.37253178  0.50892495\n",
      "   0.60366101  0.66252531  0.6905398   0.6905398   0.66252531  0.60366101\n",
      "   0.50892495  0.37253178  0.19031793 -0.03680535 -0.29854069 -0.57086809\n",
      "  -0.81342262 -0.97127026 -0.98415289 -0.80515239 -0.42710005  0.09128874]\n",
      " [-0.13645656 -0.62065892 -0.91848491 -0.99874851 -0.89220853 -0.66067124\n",
      "  -0.37023606 -0.07479369  0.19031793  0.4075647   0.57289642  0.6905398\n",
      "   0.76843049  0.81485835  0.83631926  0.83631926  0.81485835  0.76843049\n",
      "   0.6905398   0.57289642  0.4075647   0.19031793 -0.07479369 -0.37023606\n",
      "  -0.66067124 -0.89220853 -0.99874851 -0.91848491 -0.62065892 -0.13645656]\n",
      " [-0.32132971 -0.75773327 -0.97669508 -0.97127026 -0.79070657 -0.50679499\n",
      "  -0.18788998  0.11513023  0.37253178  0.57289642  0.71755464  0.81485835\n",
      "   0.87557974  0.90977201  0.92490454  0.92490454  0.90977201  0.87557974\n",
      "   0.81485835  0.71755464  0.57289642  0.37253178  0.11513023 -0.18788998\n",
      "  -0.50679499 -0.79070657 -0.97127026 -0.97669508 -0.75773327 -0.32132971]\n",
      " [-0.46118753 -0.84791098 -0.99794535 -0.92396165 -0.6887493  -0.37023606\n",
      "  -0.03680535  0.26440399  0.50892495  0.6905398   0.81485835  0.89332247\n",
      "   0.93869816  0.96219075  0.97185571  0.97185571  0.96219075  0.93869816\n",
      "   0.89332247  0.81485835  0.6905398   0.50892495  0.26440399 -0.03680535\n",
      "  -0.37023606 -0.6887493  -0.92396165 -0.99794535 -0.84791098 -0.46118753]\n",
      " [-0.55925174 -0.90277665 -0.99874851 -0.87438263 -0.60168794 -0.26201862\n",
      "   0.07725909  0.37253178  0.60366101  0.76843049  0.87557974  0.93869816\n",
      "   0.97185571  0.98695304  0.99236356  0.99236356  0.98695304  0.97185571\n",
      "   0.93869816  0.87557974  0.76843049  0.60366101  0.37253178  0.07725909\n",
      "  -0.26201862 -0.60168794 -0.87438263 -0.99874851 -0.90277665 -0.55925174]\n",
      " [-0.62065892 -0.93286355 -0.99205554 -0.83496114 -0.53922183 -0.18788998\n",
      "   0.1528347   0.44200762  0.66252531  0.81485835  0.90977201  0.96219075\n",
      "   0.98695304  0.9963375   0.99886912  0.99886912  0.9963375   0.98695304\n",
      "   0.96219075  0.90977201  0.81485835  0.66252531  0.44200762  0.1528347\n",
      "  -0.18788998 -0.53922183 -0.83496114 -0.99205554 -0.93286355 -0.62065892]\n",
      " [-0.6500367  -0.94589175 -0.98655193 -0.81342262 -0.50679499 -0.15039073\n",
      "   0.19031793  0.47581068  0.6905398   0.83631926  0.92490454  0.97185571\n",
      "   0.99236356  0.99886912  0.99995476  0.99995476  0.99886912  0.99236356\n",
      "   0.97185571  0.92490454  0.83631926  0.6905398   0.47581068  0.19031793\n",
      "  -0.15039073 -0.50679499 -0.81342262 -0.98655193 -0.94589175 -0.6500367 ]\n",
      " [-0.6500367  -0.94589175 -0.98655193 -0.81342262 -0.50679499 -0.15039073\n",
      "   0.19031793  0.47581068  0.6905398   0.83631926  0.92490454  0.97185571\n",
      "   0.99236356  0.99886912  0.99995476  0.99995476  0.99886912  0.99236356\n",
      "   0.97185571  0.92490454  0.83631926  0.6905398   0.47581068  0.19031793\n",
      "  -0.15039073 -0.50679499 -0.81342262 -0.98655193 -0.94589175 -0.6500367 ]\n",
      " [-0.62065892 -0.93286355 -0.99205554 -0.83496114 -0.53922183 -0.18788998\n",
      "   0.1528347   0.44200762  0.66252531  0.81485835  0.90977201  0.96219075\n",
      "   0.98695304  0.9963375   0.99886912  0.99886912  0.9963375   0.98695304\n",
      "   0.96219075  0.90977201  0.81485835  0.66252531  0.44200762  0.1528347\n",
      "  -0.18788998 -0.53922183 -0.83496114 -0.99205554 -0.93286355 -0.62065892]\n",
      " [-0.55925174 -0.90277665 -0.99874851 -0.87438263 -0.60168794 -0.26201862\n",
      "   0.07725909  0.37253178  0.60366101  0.76843049  0.87557974  0.93869816\n",
      "   0.97185571  0.98695304  0.99236356  0.99236356  0.98695304  0.97185571\n",
      "   0.93869816  0.87557974  0.76843049  0.60366101  0.37253178  0.07725909\n",
      "  -0.26201862 -0.60168794 -0.87438263 -0.99874851 -0.90277665 -0.55925174]\n",
      " [-0.46118753 -0.84791098 -0.99794535 -0.92396165 -0.6887493  -0.37023606\n",
      "  -0.03680535  0.26440399  0.50892495  0.6905398   0.81485835  0.89332247\n",
      "   0.93869816  0.96219075  0.97185571  0.97185571  0.96219075  0.93869816\n",
      "   0.89332247  0.81485835  0.6905398   0.50892495  0.26440399 -0.03680535\n",
      "  -0.37023606 -0.6887493  -0.92396165 -0.99794535 -0.84791098 -0.46118753]\n",
      " [-0.32132971 -0.75773327 -0.97669508 -0.97127026 -0.79070657 -0.50679499\n",
      "  -0.18788998  0.11513023  0.37253178  0.57289642  0.71755464  0.81485835\n",
      "   0.87557974  0.90977201  0.92490454  0.92490454  0.90977201  0.87557974\n",
      "   0.81485835  0.71755464  0.57289642  0.37253178  0.11513023 -0.18788998\n",
      "  -0.50679499 -0.79070657 -0.97127026 -0.97669508 -0.75773327 -0.32132971]\n",
      " [-0.13645656 -0.62065892 -0.91848491 -0.99874851 -0.89220853 -0.66067124\n",
      "  -0.37023606 -0.07479369  0.19031793  0.4075647   0.57289642  0.6905398\n",
      "   0.76843049  0.81485835  0.83631926  0.83631926  0.81485835  0.76843049\n",
      "   0.6905398   0.57289642  0.4075647   0.19031793 -0.07479369 -0.37023606\n",
      "  -0.66067124 -0.89220853 -0.99874851 -0.91848491 -0.62065892 -0.13645656]\n",
      " [ 0.09128874 -0.42710005 -0.80515239 -0.98415289 -0.97127026 -0.81342262\n",
      "  -0.57086809 -0.29854069 -0.03680535  0.19031793  0.37253178  0.50892495\n",
      "   0.60366101  0.66252531  0.6905398   0.6905398   0.66252531  0.60366101\n",
      "   0.50892495  0.37253178  0.19031793 -0.03680535 -0.29854069 -0.57086809\n",
      "  -0.81342262 -0.97127026 -0.98415289 -0.80515239 -0.42710005  0.09128874]\n",
      " [ 0.35018219 -0.17404272 -0.62065892 -0.90277665 -0.99966033 -0.9378429\n",
      "  -0.76684587 -0.53922183 -0.29854069 -0.07479369  0.11513023  0.26440399\n",
      "   0.37253178  0.44200762  0.47581068  0.47581068  0.44200762  0.37253178\n",
      "   0.26440399  0.11513023 -0.07479369 -0.29854069 -0.53922183 -0.76684587\n",
      "  -0.9378429  -0.99966033 -0.90277665 -0.62065892 -0.17404272  0.35018219]\n",
      " [ 0.61482584  0.12910458 -0.35712049 -0.73236077 -0.94589175 -0.99874851\n",
      "  -0.92396165 -0.76684587 -0.57086809 -0.37023606 -0.18788998 -0.03680535\n",
      "   0.07725909  0.1528347   0.19031793  0.19031793  0.1528347   0.07725909\n",
      "  -0.03680535 -0.18788998 -0.37023606 -0.57086809 -0.76684587 -0.92396165\n",
      "  -0.99874851 -0.94589175 -0.73236077 -0.35712049  0.12910458  0.61482584]\n",
      " [ 0.84395529  0.45459318 -0.02273185 -0.46118753 -0.78200886 -0.95755066\n",
      "  -0.99874851 -0.9378429  -0.81342262 -0.66067124 -0.50679499 -0.37023606\n",
      "  -0.26201862 -0.18788998 -0.15039073 -0.15039073 -0.18788998 -0.26201862\n",
      "  -0.37023606 -0.50679499 -0.66067124 -0.81342262 -0.9378429  -0.99874851\n",
      "  -0.95755066 -0.78200886 -0.46118753 -0.02273185  0.45459318  0.84395529]\n",
      " [ 0.98281051  0.75287196  0.35018219 -0.09867286 -0.49460739 -0.78200886\n",
      "  -0.94589175 -0.99966033 -0.97127026 -0.89220853 -0.79070657 -0.6887493\n",
      "  -0.60168794 -0.53922183 -0.50679499 -0.50679499 -0.53922183 -0.60168794\n",
      "  -0.6887493  -0.79070657 -0.89220853 -0.97127026 -0.99966033 -0.94589175\n",
      "  -0.78200886 -0.49460739 -0.09867286  0.35018219  0.75287196  0.98281051]\n",
      " [ 0.97300878  0.95538608  0.70065489  0.31429664 -0.09867286 -0.46118753\n",
      "  -0.73236077 -0.90277665 -0.98415289 -0.99874851 -0.97127026 -0.92396165\n",
      "  -0.87438263 -0.83496114 -0.81342262 -0.81342262 -0.83496114 -0.87438263\n",
      "  -0.92396165 -0.97127026 -0.99874851 -0.98415289 -0.90277665 -0.73236077\n",
      "  -0.46118753 -0.09867286  0.31429664  0.70065489  0.95538608  0.97300878]\n",
      " [ 0.77158563  0.98773718  0.94345884  0.70065489  0.35018219 -0.02273185\n",
      "  -0.35712049 -0.62065892 -0.80515239 -0.91848491 -0.97669508 -0.99794535\n",
      "  -0.99874851 -0.99205554 -0.98655193 -0.98655193 -0.99205554 -0.99874851\n",
      "  -0.99794535 -0.97669508 -0.91848491 -0.80515239 -0.62065892 -0.35712049\n",
      "  -0.02273185  0.35018219  0.70065489  0.94345884  0.98773718  0.77158563]\n",
      " [ 0.37711637  0.79522584  0.98773718  0.95538608  0.75287196  0.45459318\n",
      "   0.12910458 -0.17404272 -0.42710005 -0.62065892 -0.75773327 -0.84791098\n",
      "  -0.90277665 -0.93286355 -0.94589175 -0.94589175 -0.93286355 -0.90277665\n",
      "  -0.84791098 -0.75773327 -0.62065892 -0.42710005 -0.17404272  0.12910458\n",
      "   0.45459318  0.75287196  0.95538608  0.98773718  0.79522584  0.37711637]\n",
      " [-0.14550003  0.37711637  0.77158563  0.97300878  0.98281051  0.84395529\n",
      "   0.61482584  0.35018219  0.09128874 -0.13645656 -0.32132971 -0.46118753\n",
      "  -0.55925174 -0.62065892 -0.6500367  -0.6500367  -0.62065892 -0.55925174\n",
      "  -0.46118753 -0.32132971 -0.13645656  0.09128874  0.35018219  0.61482584\n",
      "   0.84395529  0.98281051  0.97300878  0.77158563  0.37711637 -0.14550003]]\n"
     ]
    },
    {
     "data": {
      "image/png": "[encoded data removed]",
      "text/plain": [
       "<Figure size 432x288 with 1 Axes>"
      ]
     },
     "metadata": {
      "needs_background": "light"
     },
     "output_type": "display_data"
    }
   ],
   "source": [
    "from mpl_toolkits import mplot3d\n",
    "import numpy as np\n",
    "import matplotlib.pyplot as plt\n",
    "x = np.outer(np.linspace(-2, 2, 30), np.ones(30))\n",
    "y = x.copy().T # transpose\n",
    "z = np.cos(x ** 2 + y ** 2)\n",
    "print(x)\n",
    "print(y)\n",
    "print(z)\n",
    "fig = plt.figure()\n",
    "ax = plt.axes(projection='3d')\n",
    "\n",
    "ax.plot_surface(x, y, z,cmap='viridis', edgecolor='none')\n",
    "ax.set_title('Surface plot')\n",
    "plt.show()"
   ]
  },
  {
   "cell_type": "markdown",
   "metadata": {
    "slideshow": {
     "slide_type": "subslide"
    }
   },
   "source": [
    "https://www.tutorialspoint.com/matplotlib/matplotlib_3d_contour_plot.htm"
   ]
  }
 ],
 "metadata": {
  "celltoolbar": "Slideshow",
  "kernelspec": {
   "display_name": "Python 3",
   "language": "python",
   "name": "python3"
  },
  "language_info": {
   "codemirror_mode": {
    "name": "ipython",
    "version": 3
   },
   "file_extension": ".py",
   "mimetype": "text/x-python",
   "name": "python",
   "nbconvert_exporter": "python",
   "pygments_lexer": "ipython3",
   "version": "3.7.1"
  }
 },
 "nbformat": 4,
 "nbformat_minor": 2
}
